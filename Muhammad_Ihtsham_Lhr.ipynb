{
 "cells": [
  {
   "cell_type": "code",
   "execution_count": 1,
   "metadata": {
    "collapsed": false
   },
   "outputs": [
    {
     "name": "stdout",
     "output_type": "stream",
     "text": [
      "Hello world\n"
     ]
    }
   ],
   "source": [
    "print \"Hello world\""
   ]
  },
  {
   "cell_type": "code",
   "execution_count": 2,
   "metadata": {
    "collapsed": true
   },
   "outputs": [],
   "source": [
    "import pandas as pd"
   ]
  },
  {
   "cell_type": "code",
   "execution_count": 4,
   "metadata": {
    "collapsed": false
   },
   "outputs": [],
   "source": [
    "import numpy as np"
   ]
  },
  {
   "cell_type": "code",
   "execution_count": 8,
   "metadata": {
    "collapsed": true
   },
   "outputs": [],
   "source": [
    "df=pd.read_csv(\"/resources/data/chronic_kidney_disease_updated.csv\")"
   ]
  },
  {
   "cell_type": "code",
   "execution_count": 7,
   "metadata": {
    "collapsed": false
   },
   "outputs": [
    {
     "name": "stdout",
     "output_type": "stream",
     "text": [
      "     age   bp     sg   al   su       rbc        pc         pcc          ba  \\\n",
      "0    NaN  NaN    NaN  NaN  NaN       NaN       NaN         NaN         NaN   \n",
      "1     48   80  1.020    1    0         ?    normal  notpresent  notpresent   \n",
      "2      7   50  1.020    4    0         ?    normal  notpresent  notpresent   \n",
      "3     62   80  1.010    2    3    normal    normal  notpresent  notpresent   \n",
      "4     48   70  1.005    4    0    normal  abnormal     present  notpresent   \n",
      "5     51   80  1.010    2    0    normal    normal  notpresent  notpresent   \n",
      "6     60   90  1.015    3    0         ?         ?  notpresent  notpresent   \n",
      "7     68   70  1.010    0    0         ?    normal  notpresent  notpresent   \n",
      "8     24    ?  1.015    2    4    normal  abnormal  notpresent  notpresent   \n",
      "9     52  100  1.015    3    0    normal  abnormal     present  notpresent   \n",
      "10    53   90  1.020    2    0  abnormal  abnormal     present  notpresent   \n",
      "11    50   60  1.010    2    4         ?  abnormal     present  notpresent   \n",
      "12    63   70  1.010    3    0  abnormal  abnormal     present  notpresent   \n",
      "13    68   70  1.015    3    1         ?    normal     present  notpresent   \n",
      "14    68   70      ?    ?    ?         ?         ?  notpresent  notpresent   \n",
      "15    68   80  1.010    3    2    normal  abnormal     present     present   \n",
      "16    40   80  1.015    3    0         ?    normal  notpresent  notpresent   \n",
      "17    47   70  1.015    2    0         ?    normal  notpresent  notpresent   \n",
      "18    47   80      ?    ?    ?         ?         ?  notpresent  notpresent   \n",
      "19    60  100  1.025    0    3         ?    normal  notpresent  notpresent   \n",
      "20    62   60  1.015    1    0         ?  abnormal     present  notpresent   \n",
      "21    61   80  1.015    2    0  abnormal  abnormal  notpresent  notpresent   \n",
      "22    60   90      ?    ?    ?         ?         ?  notpresent  notpresent   \n",
      "23    48   80  1.025    4    0    normal  abnormal  notpresent  notpresent   \n",
      "24    21   70  1.010    0    0         ?    normal  notpresent  notpresent   \n",
      "25    42  100  1.015    4    0    normal  abnormal  notpresent     present   \n",
      "26    61   60  1.025    0    0         ?    normal  notpresent  notpresent   \n",
      "27    75   80  1.015    0    0         ?    normal  notpresent  notpresent   \n",
      "28    69   70  1.010    3    4    normal  abnormal  notpresent  notpresent   \n",
      "29    75   70      ?    1    3         ?         ?  notpresent  notpresent   \n",
      "..   ...  ...    ...  ...  ...       ...       ...         ...         ...   \n",
      "371   69   70  1.020    0    0    normal    normal  notpresent  notpresent   \n",
      "372   28   60  1.025    0    0    normal    normal  notpresent  notpresent   \n",
      "373   72   60  1.020    0    0    normal    normal  notpresent  notpresent   \n",
      "374   61   70  1.025    0    0    normal    normal  notpresent  notpresent   \n",
      "375   79   80  1.025    0    0    normal    normal  notpresent  notpresent   \n",
      "376   70   80  1.020    0    0    normal    normal  notpresent  notpresent   \n",
      "377   58   70  1.025    0    0    normal    normal  notpresent  notpresent   \n",
      "378   64   70  1.020    0    0    normal    normal  notpresent  notpresent   \n",
      "379   71   60  1.025    0    0    normal    normal  notpresent  notpresent   \n",
      "380   62   80  1.025    0    0    normal    normal  notpresent  notpresent   \n",
      "381   59   60  1.020    0    0    normal    normal  notpresent  notpresent   \n",
      "382   71   70  1.025    0    0         ?         ?  notpresent  notpresent   \n",
      "383   48   80  1.025    0    0    normal    normal  notpresent  notpresent   \n",
      "384   80   80  1.025    0    0    normal    normal  notpresent  notpresent   \n",
      "385   57   60  1.020    0    0    normal    normal  notpresent  notpresent   \n",
      "386   63   70  1.020    0    0    normal    normal  notpresent  notpresent   \n",
      "387   46   70  1.025    0    0    normal    normal  notpresent  notpresent   \n",
      "388   15   80  1.025    0    0    normal    normal  notpresent  notpresent   \n",
      "389   51   80  1.020    0    0    normal    normal  notpresent  notpresent   \n",
      "390   41   80  1.025    0    0    normal    normal  notpresent  notpresent   \n",
      "391   52   80  1.025    0    0    normal    normal  notpresent  notpresent   \n",
      "392   36   80  1.025    0    0    normal    normal  notpresent  notpresent   \n",
      "393   57   80  1.020    0    0    normal    normal  notpresent  notpresent   \n",
      "394   43   60  1.025    0    0    normal    normal  notpresent  notpresent   \n",
      "395   50   80  1.020    0    0    normal    normal  notpresent  notpresent   \n",
      "396   55   80  1.020    0    0    normal    normal  notpresent  notpresent   \n",
      "397   42   70  1.025    0    0    normal    normal  notpresent  notpresent   \n",
      "398   12   80  1.020    0    0    normal    normal  notpresent  notpresent   \n",
      "399   17   60  1.025    0    0    normal    normal  notpresent  notpresent   \n",
      "400   58   80  1.025    0    0    normal    normal  notpresent  notpresent   \n",
      "\n",
      "     bgr   ...    pcv   wbcc rbcc  htn   dm  cad appet   pe  ane   class  \n",
      "0    NaN   ...    NaN    NaN  NaN  NaN  NaN  NaN   NaN  NaN  NaN     NaN  \n",
      "1    121   ...     44   7800  5.2  yes  yes   no  good   no   no     ckd  \n",
      "2      ?   ...     38   6000    ?   no   no   no  good   no   no     ckd  \n",
      "3    423   ...     31   7500    ?   no  yes   no  poor   no  yes     ckd  \n",
      "4    117   ...     32   6700  3.9  yes   no   no  poor  yes  yes     ckd  \n",
      "5    106   ...     35   7300  4.6   no   no   no  good   no   no     ckd  \n",
      "6     74   ...     39   7800  4.4  yes  yes   no  good  yes   no     ckd  \n",
      "7    100   ...     36      ?    ?   no   no   no  good   no   no     ckd  \n",
      "8    410   ...     44   6900    5   no  yes   no  good  yes   no     ckd  \n",
      "9    138   ...     33   9600  4.0  yes  yes   no  good   no  yes     ckd  \n",
      "10    70   ...     29  12100  3.7  yes  yes   no  poor   no  yes     ckd  \n",
      "11   490   ...     28      ?    ?  yes  yes   no  good   no  yes     ckd  \n",
      "12   380   ...     32   4500  3.8  yes  yes   no  poor  yes   no     ckd  \n",
      "13   208   ...     28  12200  3.4  yes  yes  yes  poor  yes   no     ckd  \n",
      "14    98   ...      ?      ?    ?  yes  yes  yes  poor  yes   no     ckd  \n",
      "15   157   ...     16  11000  2.6  yes  yes  yes  poor  yes   no     ckd  \n",
      "16    76   ...     24   3800  2.8  yes   no   no  good   no  yes     ckd  \n",
      "17    99   ...      ?      ?    ?   no   no   no  good   no   no     ckd  \n",
      "18   114   ...      ?      ?    ?  yes   no   no  poor   no   no     ckd  \n",
      "19   263   ...     37  11400  4.3  yes  yes  yes  good   no   no     ckd  \n",
      "20   100   ...     30   5300  3.7  yes   no  yes  good   no   no     ckd  \n",
      "21   173   ...     24   9200  3.2  yes  yes  yes  poor  yes  yes     ckd  \n",
      "22     ?   ...     32   6200  3.6  yes  yes  yes  good   no   no     ckd  \n",
      "23    95   ...     32   6900  3.4  yes   no   no  good   no  yes     ckd  \n",
      "24     ?   ...      ?      ?    ?   no   no   no  poor   no  yes     ckd  \n",
      "25     ?   ...     39   8300  4.6  yes   no   no  poor   no   no     ckd  \n",
      "26   108   ...     29   8400  3.7  yes  yes   no  good   no  yes     ckd  \n",
      "27   156   ...     35  10300    4  yes  yes   no  poor   no   no     ckd  \n",
      "28   264   ...     37   9600  4.1  yes  yes  yes  good  yes   no     ckd  \n",
      "29   123   ...      ?      ?    ?   no  yes   no  good   no   no     ckd  \n",
      "..   ...   ...    ...    ...  ...  ...  ...  ...   ...  ...  ...     ...  \n",
      "371   83   ...     50   9300  5.4   no   no   no  good   no   no  notckd  \n",
      "372   79   ...     51   6500  5.0   no   no   no  good   no   no  notckd  \n",
      "373  109   ...     52  10500  5.5   no   no   no  good   no   no  notckd  \n",
      "374  133   ...     47   9200  4.9   no   no   no  good   no   no  notckd  \n",
      "375  111   ...     40   8000  6.4   no   no   no  good   no   no  notckd  \n",
      "376   74   ...     48   9700  5.6   no   no   no  good   no   no  notckd  \n",
      "377   88   ...     53   9100  5.2   no   no   no  good   no   no  notckd  \n",
      "378   97   ...     49   6400  4.8   no   no   no  good   no   no  notckd  \n",
      "379    ?   ...     42   7700  5.5   no   no   no  good   no   no  notckd  \n",
      "380   78   ...     50   5400  5.7   no   no   no  good   no   no  notckd  \n",
      "381  113   ...     54   6500  4.9   no   no   no  good   no   no  notckd  \n",
      "382   79   ...     40   5800  5.9   no   no   no  good   no   no  notckd  \n",
      "383   75   ...     51   6000  6.5   no   no   no  good   no   no  notckd  \n",
      "384  119   ...     49   5100  5.0   no   no   no  good   no   no  notckd  \n",
      "385  132   ...     42  11000  4.5   no   no   no  good   no   no  notckd  \n",
      "386  113   ...     52   8000  5.1   no   no   no  good   no   no  notckd  \n",
      "387  100   ...     43   5700  6.5   no   no   no  good   no   no  notckd  \n",
      "388   93   ...     50   6200  5.2   no   no   no  good   no   no  notckd  \n",
      "389   94   ...     46   9500  6.4   no   no   no  good   no   no  notckd  \n",
      "390  112   ...     52   7200  5.8   no   no   no  good   no   no  notckd  \n",
      "391   99   ...     52   6300  5.3   no   no   no  good   no   no  notckd  \n",
      "392   85   ...     44   5800  6.3   no   no   no  good   no   no  notckd  \n",
      "393  133   ...     46   6600  5.5   no   no   no  good   no   no  notckd  \n",
      "394  117   ...     54   7400  5.4   no   no   no  good   no   no  notckd  \n",
      "395  137   ...     45   9500  4.6   no   no   no  good   no   no  notckd  \n",
      "396  140   ...     47   6700  4.9   no   no   no  good   no   no  notckd  \n",
      "397   75   ...     54   7800  6.2   no   no   no  good   no   no  notckd  \n",
      "398  100   ...     49   6600  5.4   no   no   no  good   no   no  notckd  \n",
      "399  114   ...     51   7200  5.9   no   no   no  good   no   no  notckd  \n",
      "400  131   ...     53   6800  6.1   no   no   no  good   no   no  notckd  \n",
      "\n",
      "[401 rows x 25 columns]\n"
     ]
    }
   ],
   "source": [
    "print df"
   ]
  },
  {
   "cell_type": "code",
   "execution_count": 9,
   "metadata": {
    "collapsed": false
   },
   "outputs": [
    {
     "name": "stdout",
     "output_type": "stream",
     "text": [
      "0           NaN\n",
      "1             ?\n",
      "2             ?\n",
      "3        normal\n",
      "4        normal\n",
      "5        normal\n",
      "6             ?\n",
      "7             ?\n",
      "8        normal\n",
      "9        normal\n",
      "10     abnormal\n",
      "11            ?\n",
      "12     abnormal\n",
      "13            ?\n",
      "14            ?\n",
      "15       normal\n",
      "16            ?\n",
      "17            ?\n",
      "18            ?\n",
      "19            ?\n",
      "20            ?\n",
      "21     abnormal\n",
      "22            ?\n",
      "23       normal\n",
      "24            ?\n",
      "25       normal\n",
      "26            ?\n",
      "27            ?\n",
      "28       normal\n",
      "29            ?\n",
      "         ...   \n",
      "371      normal\n",
      "372      normal\n",
      "373      normal\n",
      "374      normal\n",
      "375      normal\n",
      "376      normal\n",
      "377      normal\n",
      "378      normal\n",
      "379      normal\n",
      "380      normal\n",
      "381      normal\n",
      "382           ?\n",
      "383      normal\n",
      "384      normal\n",
      "385      normal\n",
      "386      normal\n",
      "387      normal\n",
      "388      normal\n",
      "389      normal\n",
      "390      normal\n",
      "391      normal\n",
      "392      normal\n",
      "393      normal\n",
      "394      normal\n",
      "395      normal\n",
      "396      normal\n",
      "397      normal\n",
      "398      normal\n",
      "399      normal\n",
      "400      normal\n",
      "Name: rbc, dtype: object\n"
     ]
    }
   ],
   "source": [
    "print df['rbc']"
   ]
  },
  {
   "cell_type": "code",
   "execution_count": 10,
   "metadata": {
    "collapsed": false
   },
   "outputs": [
    {
     "data": {
      "text/plain": [
       "['age',\n",
       " 'bp',\n",
       " 'sg',\n",
       " 'al',\n",
       " 'su',\n",
       " 'rbc',\n",
       " 'pc',\n",
       " 'pcc',\n",
       " 'ba',\n",
       " 'bgr',\n",
       " 'bu',\n",
       " 'sc',\n",
       " 'sod',\n",
       " 'pot',\n",
       " 'hemo',\n",
       " 'pcv',\n",
       " 'wbcc',\n",
       " 'rbcc',\n",
       " 'htn',\n",
       " 'dm',\n",
       " 'cad',\n",
       " 'appet',\n",
       " 'pe',\n",
       " 'ane',\n",
       " 'class']"
      ]
     },
     "execution_count": 10,
     "metadata": {},
     "output_type": "execute_result"
    }
   ],
   "source": [
    "list(df)"
   ]
  },
  {
   "cell_type": "code",
   "execution_count": 11,
   "metadata": {
    "collapsed": false
   },
   "outputs": [
    {
     "data": {
      "text/html": [
       "<div>\n",
       "<table border=\"1\" class=\"dataframe\">\n",
       "  <thead>\n",
       "    <tr style=\"text-align: right;\">\n",
       "      <th></th>\n",
       "      <th>age</th>\n",
       "      <th>bp</th>\n",
       "      <th>sg</th>\n",
       "      <th>al</th>\n",
       "      <th>su</th>\n",
       "      <th>rbc</th>\n",
       "      <th>pc</th>\n",
       "      <th>pcc</th>\n",
       "      <th>ba</th>\n",
       "      <th>bgr</th>\n",
       "      <th>...</th>\n",
       "      <th>pcv</th>\n",
       "      <th>wbcc</th>\n",
       "      <th>rbcc</th>\n",
       "      <th>htn</th>\n",
       "      <th>dm</th>\n",
       "      <th>cad</th>\n",
       "      <th>appet</th>\n",
       "      <th>pe</th>\n",
       "      <th>ane</th>\n",
       "      <th>class</th>\n",
       "    </tr>\n",
       "  </thead>\n",
       "  <tbody>\n",
       "    <tr>\n",
       "      <th>0</th>\n",
       "      <td>NaN</td>\n",
       "      <td>NaN</td>\n",
       "      <td>NaN</td>\n",
       "      <td>NaN</td>\n",
       "      <td>NaN</td>\n",
       "      <td>NaN</td>\n",
       "      <td>NaN</td>\n",
       "      <td>NaN</td>\n",
       "      <td>NaN</td>\n",
       "      <td>NaN</td>\n",
       "      <td>...</td>\n",
       "      <td>NaN</td>\n",
       "      <td>NaN</td>\n",
       "      <td>NaN</td>\n",
       "      <td>NaN</td>\n",
       "      <td>NaN</td>\n",
       "      <td>NaN</td>\n",
       "      <td>NaN</td>\n",
       "      <td>NaN</td>\n",
       "      <td>NaN</td>\n",
       "      <td>NaN</td>\n",
       "    </tr>\n",
       "    <tr>\n",
       "      <th>1</th>\n",
       "      <td>48</td>\n",
       "      <td>80</td>\n",
       "      <td>1.020</td>\n",
       "      <td>1</td>\n",
       "      <td>0</td>\n",
       "      <td>?</td>\n",
       "      <td>normal</td>\n",
       "      <td>notpresent</td>\n",
       "      <td>notpresent</td>\n",
       "      <td>121</td>\n",
       "      <td>...</td>\n",
       "      <td>44</td>\n",
       "      <td>7800</td>\n",
       "      <td>5.2</td>\n",
       "      <td>yes</td>\n",
       "      <td>yes</td>\n",
       "      <td>no</td>\n",
       "      <td>good</td>\n",
       "      <td>no</td>\n",
       "      <td>no</td>\n",
       "      <td>ckd</td>\n",
       "    </tr>\n",
       "    <tr>\n",
       "      <th>2</th>\n",
       "      <td>7</td>\n",
       "      <td>50</td>\n",
       "      <td>1.020</td>\n",
       "      <td>4</td>\n",
       "      <td>0</td>\n",
       "      <td>?</td>\n",
       "      <td>normal</td>\n",
       "      <td>notpresent</td>\n",
       "      <td>notpresent</td>\n",
       "      <td>?</td>\n",
       "      <td>...</td>\n",
       "      <td>38</td>\n",
       "      <td>6000</td>\n",
       "      <td>?</td>\n",
       "      <td>no</td>\n",
       "      <td>no</td>\n",
       "      <td>no</td>\n",
       "      <td>good</td>\n",
       "      <td>no</td>\n",
       "      <td>no</td>\n",
       "      <td>ckd</td>\n",
       "    </tr>\n",
       "    <tr>\n",
       "      <th>3</th>\n",
       "      <td>62</td>\n",
       "      <td>80</td>\n",
       "      <td>1.010</td>\n",
       "      <td>2</td>\n",
       "      <td>3</td>\n",
       "      <td>normal</td>\n",
       "      <td>normal</td>\n",
       "      <td>notpresent</td>\n",
       "      <td>notpresent</td>\n",
       "      <td>423</td>\n",
       "      <td>...</td>\n",
       "      <td>31</td>\n",
       "      <td>7500</td>\n",
       "      <td>?</td>\n",
       "      <td>no</td>\n",
       "      <td>yes</td>\n",
       "      <td>no</td>\n",
       "      <td>poor</td>\n",
       "      <td>no</td>\n",
       "      <td>yes</td>\n",
       "      <td>ckd</td>\n",
       "    </tr>\n",
       "    <tr>\n",
       "      <th>4</th>\n",
       "      <td>48</td>\n",
       "      <td>70</td>\n",
       "      <td>1.005</td>\n",
       "      <td>4</td>\n",
       "      <td>0</td>\n",
       "      <td>normal</td>\n",
       "      <td>abnormal</td>\n",
       "      <td>present</td>\n",
       "      <td>notpresent</td>\n",
       "      <td>117</td>\n",
       "      <td>...</td>\n",
       "      <td>32</td>\n",
       "      <td>6700</td>\n",
       "      <td>3.9</td>\n",
       "      <td>yes</td>\n",
       "      <td>no</td>\n",
       "      <td>no</td>\n",
       "      <td>poor</td>\n",
       "      <td>yes</td>\n",
       "      <td>yes</td>\n",
       "      <td>ckd</td>\n",
       "    </tr>\n",
       "  </tbody>\n",
       "</table>\n",
       "<p>5 rows × 25 columns</p>\n",
       "</div>"
      ],
      "text/plain": [
       "   age   bp     sg   al   su     rbc        pc         pcc          ba  bgr  \\\n",
       "0  NaN  NaN    NaN  NaN  NaN     NaN       NaN         NaN         NaN  NaN   \n",
       "1   48   80  1.020    1    0       ?    normal  notpresent  notpresent  121   \n",
       "2    7   50  1.020    4    0       ?    normal  notpresent  notpresent    ?   \n",
       "3   62   80  1.010    2    3  normal    normal  notpresent  notpresent  423   \n",
       "4   48   70  1.005    4    0  normal  abnormal     present  notpresent  117   \n",
       "\n",
       "   ...   pcv  wbcc rbcc  htn   dm  cad appet   pe  ane class  \n",
       "0  ...   NaN   NaN  NaN  NaN  NaN  NaN   NaN  NaN  NaN   NaN  \n",
       "1  ...    44  7800  5.2  yes  yes   no  good   no   no   ckd  \n",
       "2  ...    38  6000    ?   no   no   no  good   no   no   ckd  \n",
       "3  ...    31  7500    ?   no  yes   no  poor   no  yes   ckd  \n",
       "4  ...    32  6700  3.9  yes   no   no  poor  yes  yes   ckd  \n",
       "\n",
       "[5 rows x 25 columns]"
      ]
     },
     "execution_count": 11,
     "metadata": {},
     "output_type": "execute_result"
    }
   ],
   "source": [
    "df.head(n=5)"
   ]
  },
  {
   "cell_type": "code",
   "execution_count": 32,
   "metadata": {
    "collapsed": false
   },
   "outputs": [
    {
     "name": "stdout",
     "output_type": "stream",
     "text": [
      "0      NaN\n",
      "1      yes\n",
      "2       no\n",
      "3      yes\n",
      "4       no\n",
      "5       no\n",
      "6      yes\n",
      "7       no\n",
      "8      yes\n",
      "9      yes\n",
      "10     yes\n",
      "11     yes\n",
      "12     yes\n",
      "13     yes\n",
      "14     yes\n",
      "15     yes\n",
      "16      no\n",
      "17      no\n",
      "18      no\n",
      "19     yes\n",
      "20      no\n",
      "21     yes\n",
      "22     yes\n",
      "23      no\n",
      "24      no\n",
      "25      no\n",
      "26     yes\n",
      "27     yes\n",
      "28     yes\n",
      "29     yes\n",
      "      ... \n",
      "371     no\n",
      "372     no\n",
      "373     no\n",
      "374     no\n",
      "375     no\n",
      "376     no\n",
      "377     no\n",
      "378     no\n",
      "379     no\n",
      "380     no\n",
      "381     no\n",
      "382     no\n",
      "383     no\n",
      "384     no\n",
      "385     no\n",
      "386     no\n",
      "387     no\n",
      "388     no\n",
      "389     no\n",
      "390     no\n",
      "391     no\n",
      "392     no\n",
      "393     no\n",
      "394     no\n",
      "395     no\n",
      "396     no\n",
      "397     no\n",
      "398     no\n",
      "399     no\n",
      "400     no\n",
      "Name: dm, dtype: object\n"
     ]
    }
   ],
   "source": [
    "print df['dm']"
   ]
  },
  {
   "cell_type": "code",
   "execution_count": 33,
   "metadata": {
    "collapsed": false
   },
   "outputs": [
    {
     "name": "stdout",
     "output_type": "stream",
     "text": [
      "[nan 'yes' 'no' ' yes']\n"
     ]
    }
   ],
   "source": [
    "print df.dm.unique()"
   ]
  },
  {
   "cell_type": "code",
   "execution_count": 39,
   "metadata": {
    "collapsed": false
   },
   "outputs": [
    {
     "name": "stdout",
     "output_type": "stream",
     "text": [
      "[nan 'yes' 'no' ' yes']\n"
     ]
    }
   ],
   "source": [
    "df['dm'].replace(regex=True,inplace=True,to_replace=r'\\t',value=r'')\n",
    "df.replace('?', np.nan)\n",
    "print df.dm.unique()"
   ]
  },
  {
   "cell_type": "code",
   "execution_count": 48,
   "metadata": {
    "collapsed": false
   },
   "outputs": [
    {
     "name": "stdout",
     "output_type": "stream",
     "text": [
      "[nan 'yes' 'no' ' yes']\n"
     ]
    }
   ],
   "source": [
    "df.replace(regex=True,inplace=True,to_replace=r'\\t',value=r'')\n",
    "print df.dm.unique()"
   ]
  },
  {
   "cell_type": "code",
   "execution_count": 10,
   "metadata": {
    "collapsed": false
   },
   "outputs": [
    {
     "ename": "NameError",
     "evalue": "name 'df' is not defined",
     "output_type": "error",
     "traceback": [
      "\u001b[0;31m\u001b[0m",
      "\u001b[0;31mNameError\u001b[0mTraceback (most recent call last)",
      "\u001b[0;32m<ipython-input-10-85c17e49a5b8>\u001b[0m in \u001b[0;36m<module>\u001b[0;34m()\u001b[0m\n\u001b[0;32m----> 1\u001b[0;31m \u001b[0mdf\u001b[0m\u001b[0;34m[\u001b[0m\u001b[0;34m[\u001b[0m\u001b[0;34m'age'\u001b[0m\u001b[0;34m,\u001b[0m \u001b[0;34m'bp'\u001b[0m\u001b[0;34m,\u001b[0m \u001b[0;34m'bgr'\u001b[0m\u001b[0;34m,\u001b[0m \u001b[0;34m'bu'\u001b[0m\u001b[0;34m,\u001b[0m \u001b[0;34m'sc'\u001b[0m\u001b[0;34m,\u001b[0m \u001b[0;34m'sod'\u001b[0m\u001b[0;34m,\u001b[0m \u001b[0;34m'pot'\u001b[0m\u001b[0;34m,\u001b[0m \u001b[0;34m'hemo'\u001b[0m\u001b[0;34m,\u001b[0m \u001b[0;34m'pcv'\u001b[0m\u001b[0;34m,\u001b[0m \u001b[0;34m'wbcc'\u001b[0m\u001b[0;34m,\u001b[0m \u001b[0;34m'rbcc'\u001b[0m\u001b[0;34m]\u001b[0m\u001b[0;34m]\u001b[0m \u001b[0;34m=\u001b[0m \u001b[0mdf\u001b[0m\u001b[0;34m[\u001b[0m\u001b[0;34m[\u001b[0m\u001b[0;34m'age'\u001b[0m\u001b[0;34m,\u001b[0m \u001b[0;34m'bp'\u001b[0m\u001b[0;34m,\u001b[0m \u001b[0;34m'bgr'\u001b[0m\u001b[0;34m,\u001b[0m \u001b[0;34m'bu'\u001b[0m\u001b[0;34m,\u001b[0m \u001b[0;34m'sc'\u001b[0m\u001b[0;34m,\u001b[0m \u001b[0;34m'sod'\u001b[0m\u001b[0;34m,\u001b[0m \u001b[0;34m'pot'\u001b[0m\u001b[0;34m,\u001b[0m \u001b[0;34m'hemo'\u001b[0m\u001b[0;34m,\u001b[0m \u001b[0;34m'pcv'\u001b[0m\u001b[0;34m,\u001b[0m \u001b[0;34m'wbcc'\u001b[0m\u001b[0;34m,\u001b[0m \u001b[0;34m'rbcc'\u001b[0m\u001b[0;34m]\u001b[0m\u001b[0;34m]\u001b[0m\u001b[0;34m.\u001b[0m\u001b[0mapply\u001b[0m\u001b[0;34m(\u001b[0m\u001b[0mpd\u001b[0m\u001b[0;34m.\u001b[0m\u001b[0mto_numeric\u001b[0m\u001b[0;34m)\u001b[0m\u001b[0;34m\u001b[0m\u001b[0m\n\u001b[0m\u001b[1;32m      2\u001b[0m \u001b[0;32mprint\u001b[0m \u001b[0mdf\u001b[0m\u001b[0;34m.\u001b[0m\u001b[0mdtype\u001b[0m\u001b[0;34m\u001b[0m\u001b[0m\n",
      "\u001b[0;31mNameError\u001b[0m: name 'df' is not defined"
     ]
    }
   ],
   "source": [
    "df[['age', 'bp', 'bgr', 'bu', 'sc', 'sod', 'pot', 'hemo', 'pcv', 'wbcc', 'rbcc']] = df[['age', 'bp', 'bgr', 'bu', 'sc', 'sod', 'pot', 'hemo', 'pcv', 'wbcc', 'rbcc']].apply(pd.to_numeric)\n",
    "print df.dtype"
   ]
  },
  {
   "cell_type": "code",
   "execution_count": 8,
   "metadata": {
    "collapsed": false
   },
   "outputs": [
    {
     "ename": "NameError",
     "evalue": "name 'df' is not defined",
     "output_type": "error",
     "traceback": [
      "\u001b[0;31m\u001b[0m",
      "\u001b[0;31mNameError\u001b[0mTraceback (most recent call last)",
      "\u001b[0;32m<ipython-input-8-21e25e1727c9>\u001b[0m in \u001b[0;36m<module>\u001b[0;34m()\u001b[0m\n\u001b[0;32m----> 1\u001b[0;31m \u001b[0;32mprint\u001b[0m \u001b[0mdf\u001b[0m\u001b[0;34m[\u001b[0m\u001b[0;34m'rbc'\u001b[0m\u001b[0;34m]\u001b[0m\u001b[0;34m.\u001b[0m\u001b[0mvalue_counts\u001b[0m\u001b[0;34m(\u001b[0m\u001b[0;34m)\u001b[0m\u001b[0;34m\u001b[0m\u001b[0m\n\u001b[0m",
      "\u001b[0;31mNameError\u001b[0m: name 'df' is not defined"
     ]
    }
   ],
   "source": [
    "print df['rbc'].value_counts()"
   ]
  },
  {
   "cell_type": "code",
   "execution_count": 9,
   "metadata": {
    "collapsed": false
   },
   "outputs": [
    {
     "ename": "NameError",
     "evalue": "name 'df' is not defined",
     "output_type": "error",
     "traceback": [
      "\u001b[0;31m\u001b[0m",
      "\u001b[0;31mNameError\u001b[0mTraceback (most recent call last)",
      "\u001b[0;32m<ipython-input-9-8dd09ff4fc1a>\u001b[0m in \u001b[0;36m<module>\u001b[0;34m()\u001b[0m\n\u001b[0;32m----> 1\u001b[0;31m \u001b[0;32mprint\u001b[0m \u001b[0mdf\u001b[0m\u001b[0;34m[\u001b[0m\u001b[0;34m'bp'\u001b[0m\u001b[0;34m]\u001b[0m\u001b[0;34m.\u001b[0m\u001b[0mmax\u001b[0m\u001b[0;34m(\u001b[0m\u001b[0;34m)\u001b[0m\u001b[0;34m\u001b[0m\u001b[0m\n\u001b[0m",
      "\u001b[0;31mNameError\u001b[0m: name 'df' is not defined"
     ]
    }
   ],
   "source": [
    "print df['bp'].max()"
   ]
  },
  {
   "cell_type": "code",
   "execution_count": null,
   "metadata": {
    "collapsed": true
   },
   "outputs": [],
   "source": []
  }
 ],
 "metadata": {
  "kernelspec": {
   "display_name": "Python 2",
   "language": "python",
   "name": "python2"
  },
  "language_info": {
   "codemirror_mode": {
    "name": "ipython",
    "version": 2
   },
   "file_extension": ".py",
   "mimetype": "text/x-python",
   "name": "python",
   "nbconvert_exporter": "python",
   "pygments_lexer": "ipython2",
   "version": "2.7.12"
  },
  "widgets": {
   "state": {},
   "version": "1.1.2"
  }
 },
 "nbformat": 4,
 "nbformat_minor": 0
}
