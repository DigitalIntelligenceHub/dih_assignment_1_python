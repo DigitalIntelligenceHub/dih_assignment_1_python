{
 "cells": [
  {
   "cell_type": "markdown",
   "metadata": {},
   "source": [
    "### 1. Load the dataset to pandas dataframe and print names of columns"
   ]
  },
  {
   "cell_type": "code",
   "execution_count": 3,
   "metadata": {
    "collapsed": true
   },
   "outputs": [],
   "source": [
    "import pandas as pd\n",
    "import numpy as np"
   ]
  },
  {
   "cell_type": "code",
   "execution_count": 4,
   "metadata": {
    "collapsed": false
   },
   "outputs": [
    {
     "name": "stdout",
     "output_type": "stream",
     "text": [
      "Index([u'age', u'bp', u'sg', u'al', u'su', u'rbc', u'pc', u'pcc', u'ba',\n",
      "       u'bgr', u'bu', u'sc', u'sod', u'pot', u'hemo', u'pcv', u'wbcc', u'rbcc',\n",
      "       u'htn', u'dm', u'cad', u'appet', u'pe', u'ane', u'class'],\n",
      "      dtype='object')\n"
     ]
    }
   ],
   "source": [
    "Location = 'chronic_kidney_disease_updated.csv'\n",
    "df = pd.read_csv(Location) #Load dataset \n",
    "print df.columns # print names of columns"
   ]
  },
  {
   "cell_type": "markdown",
   "metadata": {},
   "source": [
    "### 2. Display first 5 rows in the dataset."
   ]
  },
  {
   "cell_type": "code",
   "execution_count": 5,
   "metadata": {
    "collapsed": false
   },
   "outputs": [
    {
     "data": {
      "text/html": [
       "<div>\n",
       "<table border=\"1\" class=\"dataframe\">\n",
       "  <thead>\n",
       "    <tr style=\"text-align: right;\">\n",
       "      <th></th>\n",
       "      <th>age</th>\n",
       "      <th>bp</th>\n",
       "      <th>sg</th>\n",
       "      <th>al</th>\n",
       "      <th>su</th>\n",
       "      <th>rbc</th>\n",
       "      <th>pc</th>\n",
       "      <th>pcc</th>\n",
       "      <th>ba</th>\n",
       "      <th>bgr</th>\n",
       "      <th>...</th>\n",
       "      <th>pcv</th>\n",
       "      <th>wbcc</th>\n",
       "      <th>rbcc</th>\n",
       "      <th>htn</th>\n",
       "      <th>dm</th>\n",
       "      <th>cad</th>\n",
       "      <th>appet</th>\n",
       "      <th>pe</th>\n",
       "      <th>ane</th>\n",
       "      <th>class</th>\n",
       "    </tr>\n",
       "  </thead>\n",
       "  <tbody>\n",
       "    <tr>\n",
       "      <th>0</th>\n",
       "      <td>NaN</td>\n",
       "      <td>NaN</td>\n",
       "      <td>NaN</td>\n",
       "      <td>NaN</td>\n",
       "      <td>NaN</td>\n",
       "      <td>NaN</td>\n",
       "      <td>NaN</td>\n",
       "      <td>NaN</td>\n",
       "      <td>NaN</td>\n",
       "      <td>NaN</td>\n",
       "      <td>...</td>\n",
       "      <td>NaN</td>\n",
       "      <td>NaN</td>\n",
       "      <td>NaN</td>\n",
       "      <td>NaN</td>\n",
       "      <td>NaN</td>\n",
       "      <td>NaN</td>\n",
       "      <td>NaN</td>\n",
       "      <td>NaN</td>\n",
       "      <td>NaN</td>\n",
       "      <td>NaN</td>\n",
       "    </tr>\n",
       "    <tr>\n",
       "      <th>1</th>\n",
       "      <td>48</td>\n",
       "      <td>80</td>\n",
       "      <td>1.020</td>\n",
       "      <td>1</td>\n",
       "      <td>0</td>\n",
       "      <td>?</td>\n",
       "      <td>normal</td>\n",
       "      <td>notpresent</td>\n",
       "      <td>notpresent</td>\n",
       "      <td>121</td>\n",
       "      <td>...</td>\n",
       "      <td>44</td>\n",
       "      <td>7800</td>\n",
       "      <td>5.2</td>\n",
       "      <td>yes</td>\n",
       "      <td>yes</td>\n",
       "      <td>no</td>\n",
       "      <td>good</td>\n",
       "      <td>no</td>\n",
       "      <td>no</td>\n",
       "      <td>ckd</td>\n",
       "    </tr>\n",
       "    <tr>\n",
       "      <th>2</th>\n",
       "      <td>7</td>\n",
       "      <td>50</td>\n",
       "      <td>1.020</td>\n",
       "      <td>4</td>\n",
       "      <td>0</td>\n",
       "      <td>?</td>\n",
       "      <td>normal</td>\n",
       "      <td>notpresent</td>\n",
       "      <td>notpresent</td>\n",
       "      <td>?</td>\n",
       "      <td>...</td>\n",
       "      <td>38</td>\n",
       "      <td>6000</td>\n",
       "      <td>?</td>\n",
       "      <td>no</td>\n",
       "      <td>no</td>\n",
       "      <td>no</td>\n",
       "      <td>good</td>\n",
       "      <td>no</td>\n",
       "      <td>no</td>\n",
       "      <td>ckd</td>\n",
       "    </tr>\n",
       "    <tr>\n",
       "      <th>3</th>\n",
       "      <td>62</td>\n",
       "      <td>80</td>\n",
       "      <td>1.010</td>\n",
       "      <td>2</td>\n",
       "      <td>3</td>\n",
       "      <td>normal</td>\n",
       "      <td>normal</td>\n",
       "      <td>notpresent</td>\n",
       "      <td>notpresent</td>\n",
       "      <td>423</td>\n",
       "      <td>...</td>\n",
       "      <td>31</td>\n",
       "      <td>7500</td>\n",
       "      <td>?</td>\n",
       "      <td>no</td>\n",
       "      <td>yes</td>\n",
       "      <td>no</td>\n",
       "      <td>poor</td>\n",
       "      <td>no</td>\n",
       "      <td>yes</td>\n",
       "      <td>ckd</td>\n",
       "    </tr>\n",
       "    <tr>\n",
       "      <th>4</th>\n",
       "      <td>48</td>\n",
       "      <td>70</td>\n",
       "      <td>1.005</td>\n",
       "      <td>4</td>\n",
       "      <td>0</td>\n",
       "      <td>normal</td>\n",
       "      <td>abnormal</td>\n",
       "      <td>present</td>\n",
       "      <td>notpresent</td>\n",
       "      <td>117</td>\n",
       "      <td>...</td>\n",
       "      <td>32</td>\n",
       "      <td>6700</td>\n",
       "      <td>3.9</td>\n",
       "      <td>yes</td>\n",
       "      <td>no</td>\n",
       "      <td>no</td>\n",
       "      <td>poor</td>\n",
       "      <td>yes</td>\n",
       "      <td>yes</td>\n",
       "      <td>ckd</td>\n",
       "    </tr>\n",
       "  </tbody>\n",
       "</table>\n",
       "<p>5 rows × 25 columns</p>\n",
       "</div>"
      ],
      "text/plain": [
       "   age   bp     sg   al   su     rbc        pc         pcc          ba  bgr  \\\n",
       "0  NaN  NaN    NaN  NaN  NaN     NaN       NaN         NaN         NaN  NaN   \n",
       "1   48   80  1.020    1    0       ?    normal  notpresent  notpresent  121   \n",
       "2    7   50  1.020    4    0       ?    normal  notpresent  notpresent    ?   \n",
       "3   62   80  1.010    2    3  normal    normal  notpresent  notpresent  423   \n",
       "4   48   70  1.005    4    0  normal  abnormal     present  notpresent  117   \n",
       "\n",
       "   ...   pcv  wbcc rbcc  htn   dm  cad appet   pe  ane class  \n",
       "0  ...   NaN   NaN  NaN  NaN  NaN  NaN   NaN  NaN  NaN   NaN  \n",
       "1  ...    44  7800  5.2  yes  yes   no  good   no   no   ckd  \n",
       "2  ...    38  6000    ?   no   no   no  good   no   no   ckd  \n",
       "3  ...    31  7500    ?   no  yes   no  poor   no  yes   ckd  \n",
       "4  ...    32  6700  3.9  yes   no   no  poor  yes  yes   ckd  \n",
       "\n",
       "[5 rows x 25 columns]"
      ]
     },
     "execution_count": 5,
     "metadata": {},
     "output_type": "execute_result"
    }
   ],
   "source": [
    "df.head(n=5)"
   ]
  },
  {
   "cell_type": "markdown",
   "metadata": {},
   "source": [
    "### 3. Check if dataset is in cleaned form else clean it. Check Diabetes Mellitus(dm) variable and print what type of values it has."
   ]
  },
  {
   "cell_type": "code",
   "execution_count": 6,
   "metadata": {
    "collapsed": false
   },
   "outputs": [
    {
     "data": {
      "text/plain": [
       "array([nan, 'yes', 'no', ' yes', '\\tno', '\\tyes', '?'], dtype=object)"
      ]
     },
     "execution_count": 6,
     "metadata": {},
     "output_type": "execute_result"
    }
   ],
   "source": [
    "df['dm'].unique()"
   ]
  },
  {
   "cell_type": "markdown",
   "metadata": {},
   "source": [
    "### 4. The dataset is not in clean form. Write a function that takes pandas dataframe as an input, remove these characters i-e ( \"\\t\", \" \") from the string value and replace with \"nan\" if the string value has only unicode characters i-e (\"?\"). The function should apply this transformation to all columns in dataframe and for cross check display unique values of Diabetes Mellitus(dm)."
   ]
  },
  {
   "cell_type": "code",
   "execution_count": 7,
   "metadata": {
    "collapsed": false
   },
   "outputs": [
    {
     "data": {
      "text/plain": [
       "age      object\n",
       "bp       object\n",
       "sg       object\n",
       "al       object\n",
       "su       object\n",
       "rbc      object\n",
       "pc       object\n",
       "pcc      object\n",
       "ba       object\n",
       "bgr      object\n",
       "bu       object\n",
       "sc       object\n",
       "sod      object\n",
       "pot      object\n",
       "hemo     object\n",
       "pcv      object\n",
       "wbcc     object\n",
       "rbcc     object\n",
       "htn      object\n",
       "dm       object\n",
       "cad      object\n",
       "appet    object\n",
       "pe       object\n",
       "ane      object\n",
       "class    object\n",
       "dtype: object"
      ]
     },
     "execution_count": 7,
     "metadata": {},
     "output_type": "execute_result"
    }
   ],
   "source": [
    "df.dtypes #print types of columns"
   ]
  },
  {
   "cell_type": "markdown",
   "metadata": {},
   "source": [
    "### 5. Change datatype to Numerical of following columns in Dataframe. columns = ['age', 'bp', 'bgr', 'bu', 'sc', 'sod', 'pot', 'hemo', 'pcv', 'wbcc', 'rbcc']¶"
   ]
  },
  {
   "cell_type": "code",
   "execution_count": 13,
   "metadata": {
    "collapsed": false
   },
   "outputs": [
    {
     "name": "stdout",
     "output_type": "stream",
     "text": [
      "age      float64\n",
      "bp        object\n",
      "sg        object\n",
      "al        object\n",
      "su        object\n",
      "rbc       object\n",
      "pc        object\n",
      "pcc       object\n",
      "ba        object\n",
      "bgr       object\n",
      "bu        object\n",
      "sc        object\n",
      "sod       object\n",
      "pot       object\n",
      "hemo      object\n",
      "pcv       object\n",
      "wbcc      object\n",
      "rbcc      object\n",
      "htn       object\n",
      "dm        object\n",
      "cad       object\n",
      "appet     object\n",
      "pe        object\n",
      "ane       object\n",
      "class     object\n",
      "dtype: object\n",
      "age      float64\n",
      "bp       float64\n",
      "sg        object\n",
      "al        object\n",
      "su        object\n",
      "rbc       object\n",
      "pc        object\n",
      "pcc       object\n",
      "ba        object\n",
      "bgr       object\n",
      "bu        object\n",
      "sc        object\n",
      "sod       object\n",
      "pot       object\n",
      "hemo      object\n",
      "pcv       object\n",
      "wbcc      object\n",
      "rbcc      object\n",
      "htn       object\n",
      "dm        object\n",
      "cad       object\n",
      "appet     object\n",
      "pe        object\n",
      "ane       object\n",
      "class     object\n",
      "dtype: object\n",
      "age      float64\n",
      "bp       float64\n",
      "sg        object\n",
      "al        object\n",
      "su        object\n",
      "rbc       object\n",
      "pc        object\n",
      "pcc       object\n",
      "ba        object\n",
      "bgr      float64\n",
      "bu        object\n",
      "sc        object\n",
      "sod       object\n",
      "pot       object\n",
      "hemo      object\n",
      "pcv       object\n",
      "wbcc      object\n",
      "rbcc      object\n",
      "htn       object\n",
      "dm        object\n",
      "cad       object\n",
      "appet     object\n",
      "pe        object\n",
      "ane       object\n",
      "class     object\n",
      "dtype: object\n",
      "age      float64\n",
      "bp       float64\n",
      "sg        object\n",
      "al        object\n",
      "su        object\n",
      "rbc       object\n",
      "pc        object\n",
      "pcc       object\n",
      "ba        object\n",
      "bgr      float64\n",
      "bu       float64\n",
      "sc        object\n",
      "sod       object\n",
      "pot       object\n",
      "hemo      object\n",
      "pcv       object\n",
      "wbcc      object\n",
      "rbcc      object\n",
      "htn       object\n",
      "dm        object\n",
      "cad       object\n",
      "appet     object\n",
      "pe        object\n",
      "ane       object\n",
      "class     object\n",
      "dtype: object\n",
      "age      float64\n",
      "bp       float64\n",
      "sg        object\n",
      "al        object\n",
      "su        object\n",
      "rbc       object\n",
      "pc        object\n",
      "pcc       object\n",
      "ba        object\n",
      "bgr      float64\n",
      "bu       float64\n",
      "sc       float64\n",
      "sod       object\n",
      "pot       object\n",
      "hemo      object\n",
      "pcv       object\n",
      "wbcc      object\n",
      "rbcc      object\n",
      "htn       object\n",
      "dm        object\n",
      "cad       object\n",
      "appet     object\n",
      "pe        object\n",
      "ane       object\n",
      "class     object\n",
      "dtype: object\n",
      "age      float64\n",
      "bp       float64\n",
      "sg        object\n",
      "al        object\n",
      "su        object\n",
      "rbc       object\n",
      "pc        object\n",
      "pcc       object\n",
      "ba        object\n",
      "bgr      float64\n",
      "bu       float64\n",
      "sc       float64\n",
      "sod      float64\n",
      "pot       object\n",
      "hemo      object\n",
      "pcv       object\n",
      "wbcc      object\n",
      "rbcc      object\n",
      "htn       object\n",
      "dm        object\n",
      "cad       object\n",
      "appet     object\n",
      "pe        object\n",
      "ane       object\n",
      "class     object\n",
      "dtype: object\n",
      "age      float64\n",
      "bp       float64\n",
      "sg        object\n",
      "al        object\n",
      "su        object\n",
      "rbc       object\n",
      "pc        object\n",
      "pcc       object\n",
      "ba        object\n",
      "bgr      float64\n",
      "bu       float64\n",
      "sc       float64\n",
      "sod      float64\n",
      "pot      float64\n",
      "hemo      object\n",
      "pcv       object\n",
      "wbcc      object\n",
      "rbcc      object\n",
      "htn       object\n",
      "dm        object\n",
      "cad       object\n",
      "appet     object\n",
      "pe        object\n",
      "ane       object\n",
      "class     object\n",
      "dtype: object\n",
      "age      float64\n",
      "bp       float64\n",
      "sg        object\n",
      "al        object\n",
      "su        object\n",
      "rbc       object\n",
      "pc        object\n",
      "pcc       object\n",
      "ba        object\n",
      "bgr      float64\n",
      "bu       float64\n",
      "sc       float64\n",
      "sod      float64\n",
      "pot      float64\n",
      "hemo     float64\n",
      "pcv       object\n",
      "wbcc      object\n",
      "rbcc      object\n",
      "htn       object\n",
      "dm        object\n",
      "cad       object\n",
      "appet     object\n",
      "pe        object\n",
      "ane       object\n",
      "class     object\n",
      "dtype: object\n",
      "age      float64\n",
      "bp       float64\n",
      "sg        object\n",
      "al        object\n",
      "su        object\n",
      "rbc       object\n",
      "pc        object\n",
      "pcc       object\n",
      "ba        object\n",
      "bgr      float64\n",
      "bu       float64\n",
      "sc       float64\n",
      "sod      float64\n",
      "pot      float64\n",
      "hemo     float64\n",
      "pcv      float64\n",
      "wbcc      object\n",
      "rbcc      object\n",
      "htn       object\n",
      "dm        object\n",
      "cad       object\n",
      "appet     object\n",
      "pe        object\n",
      "ane       object\n",
      "class     object\n",
      "dtype: object\n",
      "age      float64\n",
      "bp       float64\n",
      "sg        object\n",
      "al        object\n",
      "su        object\n",
      "rbc       object\n",
      "pc        object\n",
      "pcc       object\n",
      "ba        object\n",
      "bgr      float64\n",
      "bu       float64\n",
      "sc       float64\n",
      "sod      float64\n",
      "pot      float64\n",
      "hemo     float64\n",
      "pcv      float64\n",
      "wbcc     float64\n",
      "rbcc      object\n",
      "htn       object\n",
      "dm        object\n",
      "cad       object\n",
      "appet     object\n",
      "pe        object\n",
      "ane       object\n",
      "class     object\n",
      "dtype: object\n",
      "age      float64\n",
      "bp       float64\n",
      "sg        object\n",
      "al        object\n",
      "su        object\n",
      "rbc       object\n",
      "pc        object\n",
      "pcc       object\n",
      "ba        object\n",
      "bgr      float64\n",
      "bu       float64\n",
      "sc       float64\n",
      "sod      float64\n",
      "pot      float64\n",
      "hemo     float64\n",
      "pcv      float64\n",
      "wbcc     float64\n",
      "rbcc     float64\n",
      "htn       object\n",
      "dm        object\n",
      "cad       object\n",
      "appet     object\n",
      "pe        object\n",
      "ane       object\n",
      "class     object\n",
      "dtype: object\n"
     ]
    }
   ],
   "source": [
    "list=['age', 'bp', 'bgr', 'bu', 'sc', 'sod', 'pot', 'hemo', 'pcv', 'wbcc', 'rbcc']\n",
    "for i in list:\n",
    "    df[i]= pd.to_numeric(df[i],errors=\"coerce\")\n",
    "    print df.dtypes "
   ]
  },
  {
   "cell_type": "markdown",
   "metadata": {},
   "source": [
    "### 6. Count the number of normal or abnormal red blood cells people having Chronic Kidney Disease(CKD)."
   ]
  },
  {
   "cell_type": "code",
   "execution_count": 17,
   "metadata": {
    "collapsed": false
   },
   "outputs": [
    {
     "data": {
      "text/plain": [
       "normal      0.5025\n",
       "?           0.3800\n",
       "abnormal    0.1175\n",
       "Name: rbc, dtype: float64"
      ]
     },
     "execution_count": 17,
     "metadata": {},
     "output_type": "execute_result"
    }
   ],
   "source": [
    "df['rbc'].value_counts(\"normal\")"
   ]
  },
  {
   "cell_type": "code",
   "execution_count": 18,
   "metadata": {
    "collapsed": false
   },
   "outputs": [
    {
     "data": {
      "text/plain": [
       "normal      0.5025\n",
       "?           0.3800\n",
       "abnormal    0.1175\n",
       "Name: rbc, dtype: float64"
      ]
     },
     "execution_count": 18,
     "metadata": {},
     "output_type": "execute_result"
    }
   ],
   "source": [
    "df['rbc'].value_counts(\"abnormal\")"
   ]
  },
  {
   "cell_type": "markdown",
   "metadata": {},
   "source": [
    "### 7. Display maximum blood pressure having Chronic Kidney Disease(CKD)."
   ]
  },
  {
   "cell_type": "code",
   "execution_count": 15,
   "metadata": {
    "collapsed": false
   },
   "outputs": [
    {
     "name": "stdout",
     "output_type": "stream",
     "text": [
      "class\n",
      "ckd       180.0\n",
      "ckd\\t      80.0\n",
      "notckd     80.0\n",
      "Name: bp, dtype: float64\n"
     ]
    }
   ],
   "source": [
    "print df.groupby('class').bp.max()"
   ]
  },
  {
   "cell_type": "markdown",
   "metadata": {},
   "source": [
    "### 8. Create a csv file of cleaned data in dataframe with name \"clean_chronic_kidney_disease.csv\""
   ]
  },
  {
   "cell_type": "code",
   "execution_count": 16,
   "metadata": {
    "collapsed": false
   },
   "outputs": [
    {
     "data": {
      "text/plain": [
       "',age,bp,sg,al,su,rbc,pc,pcc,ba,bgr,bu,sc,sod,pot,hemo,pcv,wbcc,rbcc,htn,dm,cad,appet,pe,ane,class\\n0,,,,,,,,,,,,,,,,,,,,,,,,,\\n1,48.0,80.0,1.020,1,0,?,normal,notpresent,notpresent,121.0,36.0,1.2,,,15.4,44.0,7800.0,5.2,yes,yes,no,good,no,no,ckd\\n2,7.0,50.0,1.020,4,0,?,normal,notpresent,notpresent,,18.0,0.8,,,11.3,38.0,6000.0,,no,no,no,good,no,no,ckd\\n3,62.0,80.0,1.010,2,3,normal,normal,notpresent,notpresent,423.0,53.0,1.8,,,9.6,31.0,7500.0,,no,yes,no,poor,no,yes,ckd\\n4,48.0,70.0,1.005,4,0,normal,abnormal,present,notpresent,117.0,56.0,3.8,111.0,2.5,11.2,32.0,6700.0,3.9,yes,no,no,poor,yes,yes,ckd\\n5,51.0,80.0,1.010,2,0,normal,normal,notpresent,notpresent,106.0,26.0,1.4,,,11.6,35.0,7300.0,4.6,no,no,no,good,no,no,ckd\\n6,60.0,90.0,1.015,3,0,?,?,notpresent,notpresent,74.0,25.0,1.1,142.0,3.2,12.2,39.0,7800.0,4.4,yes,yes,no,good,yes,no,ckd\\n7,68.0,70.0,1.010,0,0,?,normal,notpresent,notpresent,100.0,54.0,24.0,104.0,4.0,12.4,36.0,,,no,no,no,good,no,no,ckd\\n8,24.0,,1.015,2,4,normal,abnormal,notpresent,notpresent,410.0,31.0,1.1,,,12.4,44.0,6900.0,5.0,no,yes,no,good,yes,no,ckd\\n9,52.0,100.0,1.015,3,0,normal,abnormal,present,notpresent,138.0,60.0,1.9,,,10.8,33.0,9600.0,4.0,yes,yes,no,good,no,yes,ckd\\n10,53.0,90.0,1.020,2,0,abnormal,abnormal,present,notpresent,70.0,107.0,7.2,114.0,3.7,9.5,29.0,12100.0,3.7,yes,yes,no,poor,no,yes,ckd\\n11,50.0,60.0,1.010,2,4,?,abnormal,present,notpresent,490.0,55.0,4.0,,,9.4,28.0,,,yes,yes,no,good,no,yes,ckd\\n12,63.0,70.0,1.010,3,0,abnormal,abnormal,present,notpresent,380.0,60.0,2.7,131.0,4.2,10.8,32.0,4500.0,3.8,yes,yes,no,poor,yes,no,ckd\\n13,68.0,70.0,1.015,3,1,?,normal,present,notpresent,208.0,72.0,2.1,138.0,5.8,9.7,28.0,12200.0,3.4,yes,yes,yes,poor,yes,no,ckd\\n14,68.0,70.0,?,?,?,?,?,notpresent,notpresent,98.0,86.0,4.6,135.0,3.4,9.8,,,,yes,yes,yes,poor,yes,no,ckd\\n15,68.0,80.0,1.010,3,2,normal,abnormal,present,present,157.0,90.0,4.1,130.0,6.4,5.6,16.0,11000.0,2.6,yes,yes,yes,poor,yes,no,ckd\\n16,40.0,80.0,1.015,3,0,?,normal,notpresent,notpresent,76.0,162.0,9.6,141.0,4.9,7.6,24.0,3800.0,2.8,yes,no,no,good,no,yes,ckd\\n17,47.0,70.0,1.015,2,0,?,normal,notpresent,notpresent,99.0,46.0,2.2,138.0,4.1,12.6,,,,no,no,no,good,no,no,ckd\\n18,47.0,80.0,?,?,?,?,?,notpresent,notpresent,114.0,87.0,5.2,139.0,3.7,12.1,,,,yes,no,no,poor,no,no,ckd\\n19,60.0,100.0,1.025,0,3,?,normal,notpresent,notpresent,263.0,27.0,1.3,135.0,4.3,12.7,37.0,11400.0,4.3,yes,yes,yes,good,no,no,ckd\\n20,62.0,60.0,1.015,1,0,?,abnormal,present,notpresent,100.0,31.0,1.6,,,10.3,30.0,5300.0,3.7,yes,no,yes,good,no,no,ckd\\n21,61.0,80.0,1.015,2,0,abnormal,abnormal,notpresent,notpresent,173.0,148.0,3.9,135.0,5.2,7.7,24.0,9200.0,3.2,yes,yes,yes,poor,yes,yes,ckd\\n22,60.0,90.0,?,?,?,?,?,notpresent,notpresent,,180.0,76.0,4.5,,10.9,32.0,6200.0,3.6,yes,yes,yes,good,no,no,ckd\\n23,48.0,80.0,1.025,4,0,normal,abnormal,notpresent,notpresent,95.0,163.0,7.7,136.0,3.8,9.8,32.0,6900.0,3.4,yes,no,no,good,no,yes,ckd\\n24,21.0,70.0,1.010,0,0,?,normal,notpresent,notpresent,,,,,,,,,,no,no,no,poor,no,yes,ckd\\n25,42.0,100.0,1.015,4,0,normal,abnormal,notpresent,present,,50.0,1.4,129.0,4.0,11.1,39.0,8300.0,4.6,yes,no,no,poor,no,no,ckd\\n26,61.0,60.0,1.025,0,0,?,normal,notpresent,notpresent,108.0,75.0,1.9,141.0,5.2,9.9,29.0,8400.0,3.7,yes,yes,no,good,no,yes,ckd\\n27,75.0,80.0,1.015,0,0,?,normal,notpresent,notpresent,156.0,45.0,2.4,140.0,3.4,11.6,35.0,10300.0,4.0,yes,yes,no,poor,no,no,ckd\\n28,69.0,70.0,1.010,3,4,normal,abnormal,notpresent,notpresent,264.0,87.0,2.7,130.0,4.0,12.5,37.0,9600.0,4.1,yes,yes,yes,good,yes,no,ckd\\n29,75.0,70.0,?,1,3,?,?,notpresent,notpresent,123.0,31.0,1.4,,,,,,,no,yes,no,good,no,no,ckd\\n30,68.0,70.0,1.005,1,0,abnormal,abnormal,present,notpresent,,28.0,1.4,,,12.9,38.0,,,no,no,yes,good,no,no,ckd\\n31,,70.0,?,?,?,?,?,notpresent,notpresent,93.0,155.0,7.3,132.0,4.9,,,,,yes, yes,no,good,no,no,ckd\\n32,73.0,90.0,1.015,3,0,?,abnormal,present,notpresent,107.0,33.0,1.5,141.0,4.6,10.1,30.0,7800.0,4.0,no,no,no,poor,no,no,ckd\\n33,61.0,90.0,1.010,1,1,?,normal,notpresent,notpresent,159.0,39.0,1.5,133.0,4.9,11.3,34.0,9600.0,4.0,yes,yes,no,poor,no,no,ckd\\n34,60.0,100.0,1.020,2,0,abnormal,abnormal,notpresent,notpresent,140.0,55.0,2.5,,,10.1,29.0,,,yes,no,no,poor,no,no,ckd\\n35,70.0,70.0,1.010,1,0,normal,?,present,present,171.0,153.0,5.2,,,,,,,no,yes,no,poor,no,no,ckd\\n36,65.0,90.0,1.020,2,1,abnormal,normal,notpresent,notpresent,270.0,39.0,2.0,,,12.0,36.0,9800.0,4.9,yes,yes,no,poor,no,yes,ckd\\n37,76.0,70.0,1.015,1,0,normal,normal,notpresent,notpresent,92.0,29.0,1.8,133.0,3.9,10.3,32.0,,,yes,no,no,good,no,no,ckd\\n38,72.0,80.0,?,?,?,?,?,notpresent,notpresent,137.0,65.0,3.4,141.0,4.7,9.7,28.0,6900.0,2.5,yes,yes,no,poor,no,yes,ckd\\t\\n39,69.0,80.0,1.020,3,0,abnormal,normal,notpresent,notpresent,,103.0,4.1,132.0,5.9,12.5,,,,yes,no,no,good,no,no,ckd\\n40,82.0,80.0,1.010,2,2,normal,?,notpresent,notpresent,140.0,70.0,3.4,136.0,4.2,13.0,40.0,9800.0,4.2,yes,yes,no,good,no,no,ckd\\n41,46.0,90.0,1.010,2,0,normal,abnormal,notpresent,notpresent,99.0,80.0,2.1,,,11.1,32.0,9100.0,4.1,yes,no,\\tno,good,no,no,ckd\\n42,45.0,70.0,1.010,0,0,?,normal,notpresent,notpresent,,20.0,0.7,,,,,,,no,no,no,good,yes,no,ckd\\n43,47.0,100.0,1.010,0,0,?,normal,notpresent,notpresent,204.0,29.0,1.0,139.0,4.2,9.7,33.0,9200.0,4.5,yes,no,no,good,no,yes,ckd\\n44,35.0,80.0,1.010,1,0,abnormal,?,notpresent,notpresent,79.0,202.0,10.8,134.0,3.4,7.9,24.0,7900.0,3.1,no,yes,no,good,no,no,ckd\\n45,54.0,80.0,1.010,3,0,abnormal,abnormal,notpresent,notpresent,207.0,77.0,6.3,134.0,4.8,9.7,28.0,,,yes,yes,no,poor,yes,no,ckd\\n46,54.0,80.0,1.020,3,0,?,abnormal,notpresent,notpresent,208.0,89.0,5.9,130.0,4.9,9.3,,,,yes,yes,no,poor,yes,no,ckd\\n47,48.0,70.0,1.015,0,0,?,normal,notpresent,notpresent,124.0,24.0,1.2,142.0,4.2,12.4,37.0,6400.0,4.7,no,yes,no,good,no,no,ckd\\n48,11.0,80.0,1.010,3,0,?,normal,notpresent,notpresent,,17.0,0.8,,,15.0,45.0,8600.0,,no,no,no,good,no,no,ckd\\n49,73.0,70.0,1.005,0,0,normal,normal,notpresent,notpresent,70.0,32.0,0.9,125.0,4.0,10.0,29.0,18900.0,3.5,yes,yes,no,good,yes,no,ckd\\n50,60.0,70.0,1.010,2,0,normal,abnormal,present,notpresent,144.0,72.0,3.0,,,9.7,29.0,21600.0,3.5,yes,yes,no,poor,no,yes,ckd\\n51,53.0,60.0,?,?,?,?,?,notpresent,notpresent,91.0,114.0,3.25,142.0,4.3,8.6,28.0,11000.0,3.8,yes,yes,no,poor,yes,yes,ckd\\n52,54.0,100.0,1.015,3,0,?,normal,present,notpresent,162.0,66.0,1.6,136.0,4.4,10.3,33.0,,,yes,yes,no,poor,yes,no,ckd\\n53,53.0,90.0,1.015,0,0,?,normal,notpresent,notpresent,,38.0,2.2,,,10.9,34.0,4300.0,3.7,no,no,no,poor,no,yes,ckd\\n54,62.0,80.0,1.015,0,5,?,?,notpresent,notpresent,246.0,24.0,1.0,,,13.6,40.0,8500.0,4.7,yes,yes,no,good,no,no,ckd\\n55,63.0,80.0,1.010,2,2,normal,?,notpresent,notpresent,,,3.4,136.0,4.2,13.0,40.0,9800.0,4.2,yes,no,yes,good,no,no,ckd\\n56,35.0,80.0,1.005,3,0,abnormal,normal,notpresent,notpresent,,,,,,9.5,28.0,,,no,no,no,good,yes,no,ckd\\n57,76.0,70.0,1.015,3,4,normal,abnormal,present,notpresent,,164.0,9.7,131.0,4.4,10.2,30.0,11300.0,3.4,yes,yes,yes,poor,yes,no,ckd\\n58,76.0,90.0,?,?,?,?,normal,notpresent,notpresent,93.0,155.0,7.3,132.0,4.9,,,,,yes,yes,yes,poor,no,no,ckd\\n59,73.0,80.0,1.020,2,0,abnormal,abnormal,notpresent,notpresent,253.0,142.0,4.6,138.0,5.8,10.5,33.0,7200.0,4.3,yes,yes,yes,good,no,no,ckd\\n60,59.0,100.0,?,?,?,?,?,notpresent,notpresent,,96.0,6.4,,,6.6,,,,yes,yes,no,good,no,yes,ckd\\n61,67.0,90.0,1.020,1,0,?,abnormal,present,notpresent,141.0,66.0,3.2,138.0,6.6,,,,,yes,no,no,good,no,no,ckd\\n62,67.0,80.0,1.010,1,3,normal,abnormal,notpresent,notpresent,182.0,391.0,32.0,163.0,39.0,,,,,no,no,no,good,yes,no,ckd\\n63,15.0,60.0,1.020,3,0,?,normal,notpresent,notpresent,86.0,15.0,0.6,138.0,4.0,11.0,33.0,7700.0,3.8,yes,yes,no,good,no,no,ckd\\n64,46.0,70.0,1.015,1,0,abnormal,normal,notpresent,notpresent,150.0,111.0,6.1,131.0,3.7,7.5,27.0,,,no,no,no,good,no,yes,ckd\\n65,55.0,80.0,1.010,0,0,?,normal,notpresent,notpresent,146.0,,,,,9.8,,,,no,no,\\tno,good,no,no,ckd\\n66,44.0,90.0,1.010,1,0,?,normal,notpresent,notpresent,,20.0,1.1,,,15.0,48.0,,,no,\\tno,no,good,no,no,ckd\\n67,67.0,70.0,1.020,2,0,abnormal,normal,notpresent,notpresent,150.0,55.0,1.6,131.0,4.8,,,,,yes,yes,no,good,yes,no,ckd\\n68,45.0,80.0,1.020,3,0,normal,abnormal,notpresent,notpresent,425.0,,,,,,,,,no,no,no,poor,no,no,ckd\\n69,65.0,70.0,1.010,2,0,?,normal,present,notpresent,112.0,73.0,3.3,,,10.9,37.0,,,no,no,no,good,no,no,ckd\\n70,26.0,70.0,1.015,0,4,?,normal,notpresent,notpresent,250.0,20.0,1.1,,,15.6,52.0,6900.0,6.0,no,yes,no,good,no,no,ckd\\n71,61.0,80.0,1.015,0,4,?,normal,notpresent,notpresent,360.0,19.0,0.7,137.0,4.4,15.2,44.0,8300.0,5.2,yes,yes,no,good,no,no,ckd\\n72,46.0,60.0,1.010,1,0,normal,normal,notpresent,notpresent,163.0,92.0,3.3,141.0,4.0,9.8,28.0,14600.0,3.2,yes,yes,no,good,no,no,ckd\\n73,64.0,90.0,1.010,3,3,?,abnormal,present,notpresent,,35.0,1.3,,,10.3,,,,yes,yes,no,good,yes,no,ckd\\n74,,100.0,1.015,2,0,abnormal,abnormal,notpresent,notpresent,129.0,107.0,6.7,132.0,4.4,4.8,14.0,6300.0,,yes,no,no,good,yes,yes,ckd\\n75,56.0,90.0,1.015,2,0,abnormal,abnormal,notpresent,notpresent,129.0,107.0,6.7,131.0,4.8,9.1,29.0,6400.0,3.4,yes,no,no,good,no,no,ckd\\n76,5.0,,1.015,1,0,?,normal,notpresent,notpresent,,16.0,0.7,138.0,3.2,8.1,,,,no,no,no,good,no,yes,ckd\\n77,48.0,80.0,1.005,4,0,abnormal,abnormal,notpresent,present,133.0,139.0,8.5,132.0,5.5,10.3,36.0,6200.0,4.0,no,yes,no,good,yes,no,ckd\\n78,67.0,70.0,1.010,1,0,?,normal,notpresent,notpresent,102.0,48.0,3.2,137.0,5.0,11.9,34.0,7100.0,3.7,yes,yes,no,good,yes,no,ckd\\n79,70.0,80.0,?,?,?,?,?,notpresent,notpresent,158.0,85.0,3.2,141.0,3.5,10.1,30.0,,,yes,no,no,good,yes,no,ckd\\n80,56.0,80.0,1.010,1,0,?,normal,notpresent,notpresent,165.0,55.0,1.8,,,13.5,40.0,11800.0,5.0,yes,yes,no,poor,yes,no,ckd\\n81,74.0,80.0,1.010,0,0,?,normal,notpresent,notpresent,132.0,98.0,2.8,133.0,5.0,10.8,31.0,9400.0,3.8,yes,yes,no,good,no,no,ckd\\n82,45.0,90.0,?,?,?,?,?,notpresent,notpresent,360.0,45.0,2.4,128.0,4.4,8.3,29.0,5500.0,3.7,yes,yes,no,good,no,no,ckd\\n83,38.0,70.0,?,?,?,?,?,notpresent,notpresent,104.0,77.0,1.9,140.0,3.9,,,,,yes,no,no,poor,yes,no,ckd\\n84,48.0,70.0,1.015,1,0,normal,normal,notpresent,notpresent,127.0,19.0,1.0,134.0,3.6,,,,,yes,yes,no,good,no,no,ckd\\n85,59.0,70.0,1.010,3,0,normal,abnormal,notpresent,notpresent,76.0,186.0,15.0,135.0,7.6,7.1,22.0,3800.0,2.1,yes,no,no,poor,yes,yes,ckd\\n86,70.0,70.0,1.015,2,?,?,?,notpresent,notpresent,,46.0,1.5,,,9.9,,,,no,yes,no,poor,yes,no,ckd\\n87,56.0,80.0,?,?,?,?,?,notpresent,notpresent,415.0,37.0,1.9,,,,,,,no,yes,no,good,no,no,ckd\\n88,70.0,100.0,1.005,1,0,normal,abnormal,present,notpresent,169.0,47.0,2.9,,,11.1,32.0,5800.0,5.0,yes,yes,no,poor,no,no,ckd\\n89,58.0,110.0,1.010,4,0,?,normal,notpresent,notpresent,251.0,52.0,2.2,,,,,13200.0,4.7,yes,\\tyes,no,good,no,no,ckd\\n90,50.0,70.0,1.020,0,0,?,normal,notpresent,notpresent,109.0,32.0,1.4,139.0,4.7,,,,,no,no,no,poor,no,no,ckd\\n91,63.0,100.0,1.010,2,2,normal,normal,notpresent,present,280.0,35.0,3.2,143.0,3.5,13.0,40.0,9800.0,4.2,yes,no,yes,good,no,no,ckd\\n92,56.0,70.0,1.015,4,1,abnormal,normal,notpresent,notpresent,210.0,26.0,1.7,136.0,3.8,16.1,52.0,12500.0,5.6,no,no,no,good,no,no,ckd\\n93,71.0,70.0,1.010,3,0,normal,abnormal,present,present,219.0,82.0,3.6,133.0,4.4,10.4,33.0,5600.0,3.6,yes,yes,yes,good,no,no,ckd\\n94,73.0,100.0,1.010,3,2,abnormal,abnormal,present,notpresent,295.0,90.0,5.6,140.0,2.9,9.2,30.0,7000.0,3.2,yes,yes,yes,poor,no,no,ckd\\n95,65.0,70.0,1.010,0,0,?,normal,notpresent,notpresent,93.0,66.0,1.6,137.0,4.5,11.6,36.0,11900.0,3.9,no,yes,no,good,no,no,ckd\\n96,62.0,90.0,1.015,1,0,?,normal,notpresent,notpresent,94.0,25.0,1.1,131.0,3.7,,,,,yes,no,no,good,yes,yes,ckd\\n97,60.0,80.0,1.010,1,1,?,normal,notpresent,notpresent,172.0,32.0,2.7,,,11.2,36.0,,,no,yes,yes,poor,no,no,ckd\\n98,65.0,60.0,1.015,1,0,?,normal,notpresent,notpresent,91.0,51.0,2.2,132.0,3.8,10.0,32.0,9100.0,4.0,yes,yes,no,poor,yes,no,ckd\\n99,50.0,140.0,?,?,?,?,?,notpresent,notpresent,101.0,106.0,6.5,135.0,4.3,6.2,18.0,5800.0,2.3,yes,yes,no,poor,no,yes,ckd\\n100,56.0,180.0,?,0,4,?,abnormal,notpresent,notpresent,298.0,24.0,1.2,139.0,3.9,11.2,32.0,10400.0,4.2,yes,yes,no,poor,yes,no,ckd\\n101,34.0,70.0,1.015,4,0,abnormal,abnormal,notpresent,notpresent,153.0,22.0,0.9,133.0,3.8,,,,,no,no,no,good,yes,no,ckd\\n102,71.0,90.0,1.015,2,0,?,abnormal,present,present,88.0,80.0,4.4,139.0,5.7,11.3,33.0,10700.0,3.9,no,no,no,good,no,no,ckd\\n103,17.0,60.0,1.010,0,0,?,normal,notpresent,notpresent,92.0,32.0,2.1,141.0,4.2,13.9,52.0,7000.0,,no,no,no,good,no,no,ckd\\n104,76.0,70.0,1.015,2,0,normal,abnormal,present,notpresent,226.0,217.0,10.2,,,10.2,36.0,12700.0,4.2,yes,no,no,poor,yes,yes,ckd\\n105,55.0,90.0,?,?,?,?,?,notpresent,notpresent,143.0,88.0,2.0,,,,,,,yes,yes,no,poor,yes,no,ckd\\n106,65.0,80.0,1.015,0,0,?,normal,notpresent,notpresent,115.0,32.0,11.5,139.0,4.0,14.1,42.0,6800.0,5.2,no,no,no,good,no,no,ckd\\n107,50.0,90.0,?,?,?,?,?,notpresent,notpresent,89.0,118.0,6.1,127.0,4.4,6.0,17.0,6500.0,,yes,yes,no,good,yes,yes,ckd\\n108,55.0,100.0,1.015,1,4,normal,?,notpresent,notpresent,297.0,53.0,2.8,139.0,4.5,11.2,34.0,13600.0,4.4,yes,yes,no,good,no,no,ckd\\n109,45.0,80.0,1.015,0,0,?,abnormal,notpresent,notpresent,107.0,15.0,1.0,141.0,4.2,11.8,37.0,10200.0,4.2,no,no,no,good,no,no,ckd\\n110,54.0,70.0,?,?,?,?,?,notpresent,notpresent,233.0,50.1,1.9,,,11.7,,,,no,yes,no,good,no,no,ckd\\n111,63.0,90.0,1.015,0,0,?,normal,notpresent,notpresent,123.0,19.0,2.0,142.0,3.8,11.7,34.0,11400.0,4.7,no,no,no,good,no,no,ckd\\n112,65.0,80.0,1.010,3,3,?,normal,notpresent,notpresent,294.0,71.0,4.4,128.0,5.4,10.0,32.0,9000.0,3.9,yes,yes,yes,good,no,no,ckd\\n113,,60.0,1.015,3,0,abnormal,abnormal,notpresent,notpresent,,34.0,1.2,,,10.8,33.0,,,no,no,no,good,no,no,ckd\\n114,61.0,90.0,1.015,0,2,?,normal,notpresent,notpresent,,,,,,,,9800.0,,no,yes,no,poor,no,yes,ckd\\n115,12.0,60.0,1.015,3,0,abnormal,abnormal,present,notpresent,,51.0,1.8,,,12.1,,10300.0,,no,no,no,good,no,no,ckd\\n116,47.0,80.0,1.010,0,0,?,abnormal,notpresent,notpresent,,28.0,0.9,,,12.4,44.0,5600.0,4.3,no,no,no,good,no,yes,ckd\\n117,,70.0,1.015,4,0,abnormal,normal,notpresent,notpresent,104.0,16.0,0.5,,,,,,,no,no,no,good,yes,no,ckd\\n118,,70.0,1.020,0,0,?,?,notpresent,notpresent,219.0,36.0,1.3,139.0,3.7,12.5,37.0,9800.0,4.4,no,no,no,good,no,no,ckd\\n119,55.0,70.0,1.010,3,0,?,normal,notpresent,notpresent,99.0,25.0,1.2,,,11.4,,,,no,no,no,poor,yes,no,ckd\\n120,60.0,70.0,1.010,0,0,?,normal,notpresent,notpresent,140.0,27.0,1.2,,,,,,,no,no,no,good,no,no,ckd\\n121,72.0,90.0,1.025,1,3,?,normal,notpresent,notpresent,323.0,40.0,2.2,137.0,5.3,12.6,,,,no,yes,yes,poor,no,no,ckd\\n122,54.0,60.0,?,3,?,?,?,notpresent,notpresent,125.0,21.0,1.3,137.0,3.4,15.0,46.0,,,yes,yes,no,good,yes,no,ckd\\n123,34.0,70.0,?,?,?,?,?,notpresent,notpresent,,219.0,12.2,130.0,3.8,6.0,,,,yes,no,no,good,no,yes,ckd\\n124,43.0,80.0,1.015,2,3,?,abnormal,present,present,,30.0,1.1,,,14.0,42.0,14900.0,,no,no,no,good,no,no,ckd\\n125,65.0,100.0,1.015,0,0,?,normal,notpresent,notpresent,90.0,98.0,2.5,,,9.1,28.0,5500.0,3.6,yes,no,no,good,no,no,ckd\\n126,72.0,90.0,?,?,?,?,?,notpresent,notpresent,308.0,36.0,2.5,131.0,4.3,,,,,yes,yes,no,poor,no,no,ckd\\n127,70.0,90.0,1.015,0,0,?,normal,notpresent,notpresent,144.0,125.0,4.0,136.0,4.6,12.0,37.0,8200.0,4.5,yes,yes,no,poor,yes,no,ckd\\n128,71.0,60.0,1.015,4,0,normal,normal,notpresent,notpresent,118.0,125.0,5.3,136.0,4.9,11.4,35.0,15200.0,4.3,yes,yes,no,poor,yes,no,ckd\\n129,52.0,90.0,1.015,4,3,normal,abnormal,notpresent,notpresent,224.0,166.0,5.6,133.0,47.0,8.1,23.0,5000.0,2.9,yes,yes,no,good,no,yes,ckd\\n130,75.0,70.0,1.025,1,0,?,normal,notpresent,notpresent,158.0,49.0,1.4,135.0,4.7,11.1,,,,yes,no,no,poor,yes,no,ckd\\n131,50.0,90.0,1.010,2,0,normal,abnormal,present,present,128.0,208.0,9.2,134.0,4.8,8.2,22.0,16300.0,2.7,no,no,no,poor,yes,yes,ckd\\n132,5.0,50.0,1.010,0,0,?,normal,notpresent,notpresent,,25.0,0.6,,,11.8,36.0,12400.0,,no,no,no,good,no,no,ckd\\n133,50.0,,?,?,?,normal,?,notpresent,notpresent,219.0,176.0,13.8,136.0,4.5,8.6,24.0,13200.0,2.7,yes,no,no,good,yes,yes,ckd\\n134,70.0,100.0,1.015,4,0,normal,normal,notpresent,notpresent,118.0,125.0,5.3,136.0,4.9,12.0,37.0,8400.0,8.0,yes,no,no,good,no,no,ckd\\n135,47.0,100.0,1.010,?,?,normal,?,notpresent,notpresent,122.0,,16.9,138.0,5.2,10.8,33.0,10200.0,3.8,no,yes,no,good,no,no,ckd\\n136,48.0,80.0,1.015,0,2,?,normal,notpresent,notpresent,214.0,24.0,1.3,140.0,4.0,13.2,39.0,,,no,yes,no,poor,no,no,ckd\\n137,46.0,90.0,1.020,?,?,?,normal,notpresent,notpresent,213.0,68.0,2.8,146.0,6.3,9.3,,,,yes,yes,no,good,no,no,ckd\\n138,45.0,60.0,1.010,2,0,normal,abnormal,present,notpresent,268.0,86.0,4.0,134.0,5.1,10.0,29.0,9200.0,,yes,yes,no,good,no,no,ckd\\n139,73.0,,1.010,1,0,?,?,notpresent,notpresent,95.0,51.0,1.6,142.0,3.5,,,,,no,\\tno,no,good,no,no,ckd\\n140,41.0,70.0,1.015,2,0,?,abnormal,notpresent,present,,68.0,2.8,132.0,4.1,11.1,33.0,,,yes,no,no,good,yes,yes,ckd\\n141,69.0,70.0,1.010,0,4,?,normal,notpresent,notpresent,256.0,40.0,1.2,142.0,5.6,,,,,no,no,no,good,no,no,ckd\\n142,67.0,70.0,1.010,1,0,normal,normal,notpresent,notpresent,,106.0,6.0,137.0,4.9,6.1,19.0,6500.0,,yes,no,no,good,no,yes,ckd\\n143,72.0,90.0,?,?,?,?,?,notpresent,notpresent,84.0,145.0,7.1,135.0,5.3,,,,,no,yes,no,good,no,no,ckd\\n144,41.0,80.0,1.015,1,4,abnormal,normal,notpresent,notpresent,210.0,165.0,18.0,135.0,4.7,,,,,no,yes,no,good,no,no,ckd\\n145,60.0,90.0,1.010,2,0,abnormal,normal,notpresent,notpresent,105.0,53.0,2.3,136.0,5.2,11.1,33.0,10500.0,4.1,no,no,no,good,no,no,ckd\\n146,57.0,90.0,1.015,5,0,abnormal,abnormal,notpresent,present,,322.0,13.0,126.0,4.8,8.0,24.0,4200.0,3.3,yes,yes,yes,poor,yes,yes,ckd\\n147,53.0,100.0,1.010,1,3,abnormal,normal,notpresent,notpresent,213.0,23.0,1.0,139.0,4.0,,,,,no,yes,no,good,no,no,ckd\\n148,60.0,60.0,1.010,3,1,normal,abnormal,present,notpresent,288.0,36.0,1.7,130.0,3.0,7.9,25.0,15200.0,3.0,yes,no,no,poor,no,yes,ckd\\n149,69.0,60.0,?,?,?,?,?,notpresent,notpresent,171.0,26.0,48.1,,,,,,,yes,no,no,poor,no,no,ckd\\n150,65.0,70.0,1.020,1,0,abnormal,abnormal,notpresent,notpresent,139.0,29.0,1.0,,,10.5,32.0,,,yes,no,no,good,yes,no,ckd\\n151,8.0,60.0,1.025,3,0,normal,normal,notpresent,notpresent,78.0,27.0,0.9,,,12.3,41.0,6700.0,,no,no,no,poor,yes,no,ckd\\n152,76.0,90.0,?,?,?,?,?,notpresent,notpresent,172.0,46.0,1.7,141.0,5.5,9.6,30.0,,,yes,yes,no,good,no,yes,ckd\\n153,39.0,70.0,1.010,0,0,?,normal,notpresent,notpresent,121.0,20.0,0.8,133.0,3.5,10.9,32.0,,,no,yes,no,good,no,no,ckd\\n154,55.0,90.0,1.010,2,1,abnormal,abnormal,notpresent,notpresent,273.0,235.0,14.2,132.0,3.4,8.3,22.0,14600.0,2.9,yes,yes,no,poor,yes,yes,ckd\\n155,56.0,90.0,1.005,4,3,abnormal,abnormal,notpresent,notpresent,242.0,132.0,16.4,140.0,4.2,8.4,26.0,,3.0,yes,yes,no,poor,yes,yes,ckd\\n156,50.0,70.0,1.020,3,0,abnormal,normal,present,present,123.0,40.0,1.8,,,11.1,36.0,4700.0,,no,no,no,good,no,no,ckd\\n157,66.0,90.0,1.015,2,0,?,normal,notpresent,present,153.0,76.0,3.3,,,,,,,no,no,no,poor,no,no,ckd\\n158,62.0,70.0,1.025,3,0,normal,abnormal,notpresent,notpresent,122.0,42.0,1.7,136.0,4.7,12.6,39.0,7900.0,3.9,yes,yes,no,good,no,no,ckd\\n159,71.0,60.0,1.020,3,2,normal,normal,present,notpresent,424.0,48.0,1.5,132.0,4.0,10.9,31.0,,,yes,yes,yes,good,no,no,ckd\\n160,59.0,80.0,1.010,1,0,abnormal,normal,notpresent,notpresent,303.0,35.0,1.3,122.0,3.5,10.4,35.0,10900.0,4.3,no,yes,no,poor,no,no,ckd\\n161,81.0,60.0,?,?,?,?,?,notpresent,notpresent,148.0,39.0,2.1,147.0,4.2,10.9,35.0,9400.0,2.4,yes,yes,yes,poor,yes,no,ckd\\n162,62.0,,1.015,3,0,abnormal,?,notpresent,notpresent,,,,,,14.3,42.0,10200.0,4.8,yes,yes,no,good,no,no,ckd\\n163,59.0,70.0,?,?,?,?,?,notpresent,notpresent,204.0,34.0,1.5,124.0,4.1,9.8,37.0,6000.0,,no,yes,no,good,no,no,ckd\\n164,46.0,80.0,1.010,0,0,?,normal,notpresent,notpresent,160.0,40.0,2.0,140.0,4.1,9.0,27.0,8100.0,3.2,yes,no,no,poor,no,yes,ckd\\n165,14.0,,1.015,0,0,?,?,notpresent,notpresent,192.0,15.0,0.8,137.0,4.2,14.3,40.0,9500.0,5.4,no,yes,no,poor,yes,no,ckd\\n166,60.0,80.0,1.020,0,2,?,?,notpresent,notpresent,,,,,,,,,,no,yes,no,good,no,no,ckd\\n167,27.0,60.0,?,?,?,?,?,notpresent,notpresent,76.0,44.0,3.9,127.0,4.3,,,,,no,no,no,poor,yes,yes,ckd\\n168,34.0,70.0,1.020,0,0,abnormal,normal,notpresent,notpresent,139.0,19.0,0.9,,,12.7,42.0,2200.0,,no,no,no,poor,no,no,ckd\\n169,65.0,70.0,1.015,4,4,?,normal,present,notpresent,307.0,28.0,1.5,,,11.0,39.0,6700.0,,yes,yes,no,good,no,no,ckd\\n170,,70.0,1.010,0,2,?,normal,notpresent,notpresent,220.0,68.0,2.8,,,8.7,27.0,,,yes,yes,no,good,no,yes,ckd\\n171,66.0,70.0,1.015,2,5,?,normal,notpresent,notpresent,447.0,41.0,1.7,131.0,3.9,12.5,33.0,9600.0,4.4,yes,yes,no,good,no,no,ckd\\n172,83.0,70.0,1.020,3,0,normal,normal,notpresent,notpresent,102.0,60.0,2.6,115.0,5.7,8.7,26.0,12800.0,3.1,yes,no,no,poor,no,yes,ckd\\n173,62.0,80.0,1.010,1,2,?,?,notpresent,notpresent,309.0,113.0,2.9,130.0,2.5,10.6,34.0,12800.0,4.9,no,no,no,good,no,no,ckd\\n174,17.0,70.0,1.015,1,0,abnormal,normal,notpresent,notpresent,22.0,1.5,7.3,145.0,2.8,13.1,41.0,11200.0,,no,no,no,good,no,no,ckd\\n175,54.0,70.0,?,?,?,?,?,notpresent,notpresent,111.0,146.0,7.5,141.0,4.7,11.0,35.0,8600.0,4.6,no,no,no,good,no,no,ckd\\n176,60.0,50.0,1.010,0,0,?,normal,notpresent,notpresent,261.0,58.0,2.2,113.0,3.0,,,4200.0,3.4,yes,no,no,good,no,no,ckd\\n177,21.0,90.0,1.010,4,0,normal,abnormal,present,present,107.0,40.0,1.7,125.0,3.5,8.3,23.0,12400.0,3.9,no,no,no,good,no,yes,ckd\\n178,65.0,80.0,1.015,2,1,normal,normal,present,notpresent,215.0,133.0,2.5,,,13.2,41.0,,,no,yes,no,good,no,no,ckd\\n179,42.0,90.0,1.020,2,0,abnormal,abnormal,present,notpresent,93.0,153.0,2.7,139.0,4.3,9.8,34.0,9800.0,,no,no,no,poor,yes,yes,ckd\\n180,72.0,90.0,1.010,2,0,?,abnormal,present,notpresent,124.0,53.0,2.3,,,11.9,39.0,,,no,no,no,good,no,no,ckd\\n181,73.0,90.0,1.010,1,4,abnormal,abnormal,present,notpresent,234.0,56.0,1.9,,,10.3,28.0,,,no,yes,no,good,no,no,ckd\\n182,45.0,70.0,1.025,2,0,normal,abnormal,present,notpresent,117.0,52.0,2.2,136.0,3.8,10.0,30.0,19100.0,3.7,no,no,no,good,no,no,ckd\\n183,61.0,80.0,1.020,0,0,?,normal,notpresent,notpresent,131.0,23.0,0.8,140.0,4.1,11.3,35.0,,,no,no,no,good,no,no,ckd\\n184,30.0,70.0,1.015,0,0,?,normal,notpresent,notpresent,101.0,106.0,6.5,135.0,4.3,,,,,no,no,no,poor,no,no,ckd\\n185,54.0,60.0,1.015,3,2,?,abnormal,notpresent,notpresent,352.0,137.0,3.3,133.0,4.5,11.3,31.0,5800.0,3.6,yes,yes,yes,poor,yes,no,ckd\\n186,4.0,,1.020,1,0,?,normal,notpresent,notpresent,99.0,23.0,0.6,138.0,4.4,12.0,34.0,,,no,no,no,good,no,no,ckd\\n187,8.0,50.0,1.020,4,0,normal,normal,notpresent,notpresent,,46.0,1.0,135.0,3.8,,,,,no,no,no,good,yes,no,ckd\\n188,3.0,,1.010,2,0,normal,normal,notpresent,notpresent,,22.0,0.7,,,10.7,34.0,12300.0,,no,no,no,good,no,no,ckd\\n189,8.0,,?,?,?,?,?,notpresent,notpresent,80.0,66.0,2.5,142.0,3.6,12.2,38.0,,,no,\\tno,no,good,no,no,ckd\\n190,64.0,60.0,1.010,4,1,abnormal,abnormal,notpresent,present,239.0,58.0,4.3,137.0,5.4,9.5,29.0,7500.0,3.4,yes,yes,no,poor,yes,no,ckd\\n191,6.0,60.0,1.010,4,0,abnormal,abnormal,notpresent,present,94.0,67.0,1.0,135.0,4.9,9.9,30.0,16700.0,4.8,no,no,no,poor,no,no,ckd\\n192,,70.0,1.010,3,0,normal,normal,notpresent,notpresent,110.0,115.0,6.0,134.0,2.7,9.1,26.0,9200.0,3.4,yes,yes,no,poor,no,no,ckd\\n193,46.0,110.0,1.015,0,0,?,normal,notpresent,notpresent,130.0,16.0,0.9,,,,,,,no,no,no,good,no,no,ckd\\n194,32.0,90.0,1.025,1,0,abnormal,abnormal,notpresent,notpresent,,223.0,18.1,113.0,6.5,5.5,15.0,2600.0,2.8,yes,yes,no,poor,yes,yes,ckd\\n195,80.0,70.0,1.010,2,?,?,abnormal,notpresent,notpresent,,49.0,1.2,,,,,,,yes,\\tyes,no,good,no,no,ckd\\n196,70.0,90.0,1.020,2,1,abnormal,abnormal,notpresent,present,184.0,98.6,3.3,138.0,3.9,5.8,,,,yes,yes,yes,poor,no,no,ckd\\n197,49.0,100.0,1.010,3,0,abnormal,abnormal,notpresent,notpresent,129.0,158.0,11.8,122.0,3.2,8.1,24.0,9600.0,3.5,yes,yes,no,poor,yes,yes,ckd\\n198,57.0,80.0,?,?,?,?,?,notpresent,notpresent,,111.0,9.3,124.0,5.3,6.8,,4300.0,3.0,yes,yes,no,good,no,yes,ckd\\n199,59.0,100.0,1.020,4,2,normal,normal,notpresent,notpresent,252.0,40.0,3.2,137.0,4.7,11.2,30.0,26400.0,3.9,yes,yes,no,poor,yes,no,ckd\\n200,65.0,80.0,1.015,0,0,?,normal,notpresent,notpresent,92.0,37.0,1.5,140.0,5.2,8.8,25.0,10700.0,3.2,yes,no,yes,good,yes,no,ckd\\n201,90.0,90.0,1.025,1,0,?,normal,notpresent,notpresent,139.0,89.0,3.0,140.0,4.1,12.0,37.0,7900.0,3.9,yes,yes,no,good,no,no,ckd\\n202,64.0,70.0,?,?,?,?,?,notpresent,notpresent,113.0,94.0,7.3,137.0,4.3,7.9,21.0,,,yes,yes,yes,good,yes,yes,ckd\\n203,78.0,60.0,?,?,?,?,?,notpresent,notpresent,114.0,74.0,2.9,135.0,5.9,8.0,24.0,,,no,yes,no,good,no,yes,ckd\\n204,,90.0,?,?,?,?,?,notpresent,notpresent,207.0,80.0,6.8,142.0,5.5,8.5,,,,yes,yes,no,good,no,yes,ckd\\n205,65.0,90.0,1.010,4,2,normal,normal,notpresent,notpresent,172.0,82.0,13.5,145.0,6.3,8.8,31.0,,,yes,yes,no,good,yes,yes,ckd\\n206,61.0,70.0,?,?,?,?,?,notpresent,notpresent,100.0,28.0,2.1,,,12.6,43.0,,,yes,yes,no,good,no,no,ckd\\n207,60.0,70.0,1.010,1,0,?,normal,notpresent,notpresent,109.0,96.0,3.9,135.0,4.0,13.8,41.0,,,yes,no,no,good,no,no,ckd\\n208,50.0,70.0,1.010,0,0,?,normal,notpresent,notpresent,230.0,50.0,2.2,,,12.0,41.0,10400.0,4.6,yes,yes,no,good,no,no,ckd\\n209,67.0,80.0,?,?,?,?,?,notpresent,notpresent,341.0,37.0,1.5,,,12.3,41.0,6900.0,4.9,yes,yes,no,good,no,yes,ckd\\n210,19.0,70.0,1.020,0,0,?,normal,notpresent,notpresent,,,,,,11.5,,6900.0,,no,no,no,good,no,no,ckd\\n211,59.0,100.0,1.015,4,2,normal,normal,notpresent,notpresent,255.0,132.0,12.8,135.0,5.7,7.3,20.0,9800.0,3.9,yes,yes,yes,good,no,yes,ckd\\n212,54.0,120.0,1.015,0,0,?,normal,notpresent,notpresent,103.0,18.0,1.2,,,,,,,no,no,no,good,no,no,ckd\\n213,40.0,70.0,1.015,3,4,normal,normal,notpresent,notpresent,253.0,150.0,11.9,132.0,5.6,10.9,31.0,8800.0,3.4,yes,yes,no,poor,yes,no,ckd\\n214,55.0,80.0,1.010,3,1,normal,abnormal,present,present,214.0,73.0,3.9,137.0,4.9,10.9,34.0,7400.0,3.7,yes,yes,no,good,yes,no,ckd\\n215,68.0,80.0,1.015,0,0,?,abnormal,notpresent,notpresent,171.0,30.0,1.0,,,13.7,43.0,4900.0,5.2,no,yes,no,good,no,no,ckd\\n216,2.0,,1.010,3,0,normal,abnormal,notpresent,notpresent,,,,,,,,,,no,no,no,good,yes,no,ckd\\n217,64.0,70.0,1.010,0,0,?,normal,notpresent,notpresent,107.0,15.0,,,,12.8,38.0,,,no,no,no,good,no,no,ckd\\n218,63.0,100.0,1.010,1,0,?,normal,notpresent,notpresent,78.0,61.0,1.8,141.0,4.4,12.2,36.0,10500.0,4.3,no,yes,no,good,no,no,ckd\\n219,33.0,90.0,1.015,0,0,?,normal,notpresent,notpresent,92.0,19.0,0.8,,,11.8,34.0,7000.0,,no,no,no,good,no,no,ckd\\n220,68.0,90.0,1.010,0,0,?,normal,notpresent,notpresent,238.0,57.0,2.5,,,9.8,28.0,8000.0,3.3,yes,yes,no,poor,no,no,ckd\\n221,36.0,80.0,1.010,0,0,?,normal,notpresent,notpresent,103.0,,,,,11.9,36.0,8800.0,,no,no,no,good,no,no,ckd\\n222,66.0,70.0,1.020,1,0,normal,?,notpresent,notpresent,248.0,30.0,1.7,138.0,5.3,,,,,yes,yes,no,good,no,no,ckd\\n223,74.0,60.0,?,?,?,?,?,notpresent,notpresent,108.0,68.0,1.8,,,,,,,yes,yes,no,good,no,no,ckd\\n224,71.0,90.0,1.010,0,3,?,normal,notpresent,notpresent,303.0,30.0,1.3,136.0,4.1,13.0,38.0,9200.0,4.6,yes,yes,no,good,no,no,ckd\\n225,34.0,60.0,1.020,0,0,?,normal,notpresent,notpresent,117.0,28.0,2.2,138.0,3.8,,,,,no,no,no,good,yes,no,ckd\\n226,60.0,90.0,1.010,3,5,abnormal,normal,notpresent,present,490.0,95.0,2.7,131.0,3.8,11.5,35.0,12000.0,4.5,yes,yes,no,good,no,no,ckd\\n227,64.0,100.0,1.015,4,2,abnormal,abnormal,notpresent,present,163.0,54.0,7.2,140.0,4.6,7.9,26.0,7500.0,3.4,yes,yes,no,good,yes,no,ckd\\n228,57.0,80.0,1.015,0,0,?,normal,notpresent,notpresent,120.0,48.0,1.6,,,11.3,36.0,7200.0,3.8,yes,yes,no,good,no,no,ckd\\n229,60.0,70.0,?,?,?,?,?,notpresent,notpresent,124.0,52.0,2.5,,,,,,,yes,no,no,good,no,no,ckd\\n230,59.0,50.0,1.010,3,0,normal,abnormal,notpresent,notpresent,241.0,191.0,12.0,114.0,2.9,9.6,31.0,15700.0,3.8,no,yes,no,good,yes,no,ckd\\n231,65.0,60.0,1.010,2,0,normal,abnormal,present,notpresent,192.0,17.0,1.7,130.0,4.3,,,9500.0,,yes,yes,no,poor,no,no,ckd\\t\\n232,60.0,90.0,?,?,?,?,?,notpresent,notpresent,269.0,51.0,2.8,138.0,3.7,11.5,35.0,,,yes,yes,yes,good,yes,no,ckd\\n233,50.0,90.0,1.015,1,0,abnormal,abnormal,notpresent,notpresent,,,,,,,,,,no,no,no,good,yes,no,ckd\\n234,51.0,100.0,1.015,2,0,normal,normal,notpresent,present,93.0,20.0,1.6,146.0,4.5,,,,,no,no,no,poor,no,no,ckd\\n235,37.0,100.0,1.010,0,0,abnormal,normal,notpresent,notpresent,,19.0,1.3,,,15.0,44.0,4100.0,5.2,yes,no,no,good,no,no,ckd\\n236,45.0,70.0,1.010,2,0,?,normal,notpresent,notpresent,113.0,93.0,2.3,,,7.9,26.0,5700.0,,no,no,yes,good,no,yes,ckd\\n237,65.0,80.0,?,?,?,?,?,notpresent,notpresent,74.0,66.0,2.0,136.0,5.4,9.1,25.0,,,yes,yes,yes,good,yes,no,ckd\\n238,80.0,70.0,1.015,2,2,?,normal,notpresent,notpresent,141.0,53.0,2.2,,,12.7,40.0,9600.0,,yes,yes,no,poor,yes,no,ckd\\n239,72.0,100.0,?,?,?,?,?,notpresent,notpresent,201.0,241.0,13.4,127.0,4.8,9.4,28.0,,,yes,yes,no,good,no,yes,ckd\\n240,34.0,90.0,1.015,2,0,normal,normal,notpresent,notpresent,104.0,50.0,1.6,137.0,4.1,11.9,39.0,,,no,no,no,good,no,no,ckd\\n241,65.0,70.0,1.015,1,0,?,normal,notpresent,notpresent,203.0,46.0,1.4,,,11.4,36.0,5000.0,4.1,yes,yes,no,poor,yes,no,ckd\\n242,57.0,70.0,1.015,1,0,?,abnormal,notpresent,notpresent,165.0,45.0,1.5,140.0,3.3,10.4,31.0,4200.0,3.9,no,no,no,good,no,no,ckd\\n243,69.0,70.0,1.010,4,3,normal,abnormal,present,present,214.0,96.0,6.3,120.0,3.9,9.4,28.0,11500.0,3.3,yes,yes,yes,good,yes,yes,ckd\\n244,62.0,90.0,1.020,2,1,?,normal,notpresent,notpresent,169.0,48.0,2.4,138.0,2.9,13.4,47.0,11000.0,6.1,yes,no,no,good,no,no,ckd\\n245,64.0,90.0,1.015,3,2,?,abnormal,present,notpresent,463.0,64.0,2.8,135.0,4.1,12.2,40.0,9800.0,4.6,yes,yes,no,good,no,yes,ckd\\n246,48.0,100.0,?,?,?,?,?,notpresent,notpresent,103.0,79.0,5.3,135.0,6.3,6.3,19.0,7200.0,2.6,yes,no,yes,poor,no,no,ckd\\n247,48.0,110.0,1.015,3,0,abnormal,normal,present,notpresent,106.0,215.0,15.2,120.0,5.7,8.6,26.0,5000.0,2.5,yes,no,yes,good,no,yes,ckd\\n248,54.0,90.0,1.025,1,0,normal,abnormal,notpresent,notpresent,150.0,18.0,1.2,140.0,4.2,,,,,no,no,no,poor,yes,yes,ckd\\n249,59.0,70.0,1.010,1,3,abnormal,abnormal,notpresent,notpresent,424.0,55.0,1.7,138.0,4.5,12.6,37.0,10200.0,4.1,yes,yes,yes,good,no,no,ckd\\n250,56.0,90.0,1.010,4,1,normal,abnormal,present,notpresent,176.0,309.0,13.3,124.0,6.5,3.1,9.0,5400.0,2.1,yes,yes,no,poor,yes,yes,ckd\\n251,40.0,80.0,1.025,0,0,normal,normal,notpresent,notpresent,140.0,10.0,1.2,135.0,5.0,15.0,48.0,10400.0,4.5,no,no,no,good,no,no,notckd\\n252,23.0,80.0,1.025,0,0,normal,normal,notpresent,notpresent,70.0,36.0,1.0,150.0,4.6,17.0,52.0,9800.0,5.0,no,no,no,good,no,no,notckd\\n253,45.0,80.0,1.025,0,0,normal,normal,notpresent,notpresent,82.0,49.0,0.6,147.0,4.4,15.9,46.0,9100.0,4.7,no,no,no,good,no,no,notckd\\n254,57.0,80.0,1.025,0,0,normal,normal,notpresent,notpresent,119.0,17.0,1.2,135.0,4.7,15.4,42.0,6200.0,6.2,no,no,no,good,no,no,notckd\\n255,51.0,60.0,1.025,0,0,normal,normal,notpresent,notpresent,99.0,38.0,0.8,135.0,3.7,13.0,49.0,8300.0,5.2,no,no,no,good,no,no,notckd\\n256,34.0,80.0,1.025,0,0,normal,normal,notpresent,notpresent,121.0,27.0,1.2,144.0,3.9,13.6,52.0,9200.0,6.3,no,no,no,good,no,no,notckd\\n257,60.0,80.0,1.025,0,0,normal,normal,notpresent,notpresent,131.0,10.0,0.5,146.0,5.0,14.5,41.0,10700.0,5.1,no,no,no,good,no,no,notckd\\n258,38.0,60.0,1.020,0,0,normal,normal,notpresent,notpresent,91.0,36.0,0.7,135.0,3.7,14.0,46.0,9100.0,5.8,no,no,no,good,no,no,notckd\\n259,42.0,80.0,1.020,0,0,normal,normal,notpresent,notpresent,98.0,20.0,0.5,140.0,3.5,13.9,44.0,8400.0,5.5,no,no,no,good,no,no,notckd\\n260,35.0,80.0,1.020,0,0,normal,normal,notpresent,notpresent,104.0,31.0,1.2,135.0,5.0,16.1,45.0,4300.0,5.2,no,no,no,good,no,no,notckd\\n261,30.0,80.0,1.020,0,0,normal,normal,notpresent,notpresent,131.0,38.0,1.0,147.0,3.8,14.1,45.0,9400.0,5.3,no,no,no,good,no,no,notckd\\n262,49.0,80.0,1.020,0,0,normal,normal,notpresent,notpresent,122.0,32.0,1.2,139.0,3.9,17.0,41.0,5600.0,4.9,no,no,no,good,no,no,notckd\\n263,55.0,80.0,1.020,0,0,normal,normal,notpresent,notpresent,118.0,18.0,0.9,135.0,3.6,15.5,43.0,7200.0,5.4,no,no,no,good,no,no,notckd\\n264,45.0,80.0,1.020,0,0,normal,normal,notpresent,notpresent,117.0,46.0,1.2,137.0,5.0,16.2,45.0,8600.0,5.2,no,no,no,good,no,no,notckd\\n265,42.0,80.0,1.020,0,0,normal,normal,notpresent,notpresent,132.0,24.0,0.7,140.0,4.1,14.4,50.0,5000.0,4.5,no,no,no,good,no,no,notckd\\n266,50.0,80.0,1.020,0,0,normal,normal,notpresent,notpresent,97.0,40.0,0.6,150.0,4.5,14.2,48.0,10500.0,5.0,no,no,no,good,no,no,notckd\\n267,55.0,80.0,1.020,0,0,normal,normal,notpresent,notpresent,133.0,17.0,1.2,135.0,4.8,13.2,41.0,6800.0,5.3,no,no,no,good,no,no,notckd\\n268,48.0,80.0,1.025,0,0,normal,normal,notpresent,notpresent,122.0,33.0,0.9,146.0,3.9,13.9,48.0,9500.0,4.8,no,no,no,good,no,no,notckd\\n269,,80.0,?,?,?,?,?,notpresent,notpresent,100.0,49.0,1.0,140.0,5.0,16.3,53.0,8500.0,4.9,no,no,no,good,no,no,notckd\\n270,25.0,80.0,1.025,0,0,normal,normal,notpresent,notpresent,121.0,19.0,1.2,142.0,4.9,15.0,48.0,6900.0,5.3,no,no,no,good,no,no,notckd\\n271,23.0,80.0,1.025,0,0,normal,normal,notpresent,notpresent,111.0,34.0,1.1,145.0,4.0,14.3,41.0,7200.0,5.0,no,no,no,good,no,no,notckd\\n272,30.0,80.0,1.025,0,0,normal,normal,notpresent,notpresent,96.0,25.0,0.5,144.0,4.8,13.8,42.0,9000.0,4.5,no,no,no,good,no,no,notckd\\n273,56.0,80.0,1.025,0,0,normal,normal,notpresent,notpresent,139.0,15.0,1.2,135.0,5.0,14.8,42.0,5600.0,5.5,no,no,no,good,no,no,notckd\\n274,47.0,80.0,1.020,0,0,normal,normal,notpresent,notpresent,95.0,35.0,0.9,140.0,4.1,,,,,no,no,no,good,no,no,notckd\\n275,19.0,80.0,1.020,0,0,normal,normal,notpresent,notpresent,107.0,23.0,0.7,141.0,4.2,14.4,44.0,,,no,no,no,good,no,no,notckd\\n276,52.0,80.0,1.020,0,0,normal,normal,notpresent,notpresent,125.0,22.0,1.2,139.0,4.6,16.5,43.0,4700.0,4.6,no,no,no,good,no,no,notckd\\n277,20.0,60.0,1.025,0,0,normal,normal,notpresent,notpresent,,,,137.0,4.7,14.0,41.0,4500.0,5.5,no,no,no,good,no,no,notckd\\n278,46.0,60.0,1.025,0,0,normal,normal,notpresent,notpresent,123.0,46.0,1.0,135.0,5.0,15.7,50.0,6300.0,4.8,no,no,no,good,no,no,notckd\\n279,48.0,60.0,1.020,0,0,normal,normal,notpresent,notpresent,112.0,44.0,1.2,142.0,4.9,14.5,44.0,9400.0,6.4,no,no,no,good,no,no,notckd\\n280,24.0,70.0,1.025,0,0,normal,normal,notpresent,notpresent,140.0,23.0,0.6,140.0,4.7,16.3,48.0,5800.0,5.6,no,no,no,good,no,no,notckd\\n281,47.0,80.0,?,?,?,?,?,notpresent,notpresent,93.0,33.0,0.9,144.0,4.5,13.3,52.0,8100.0,5.2,no,no,no,good,no,no,notckd\\n282,55.0,80.0,1.025,0,0,normal,normal,notpresent,notpresent,130.0,50.0,1.2,147.0,5.0,15.5,41.0,9100.0,6.0,no,no,no,good,no,no,notckd\\n283,20.0,70.0,1.020,0,0,normal,normal,notpresent,notpresent,123.0,44.0,1.0,135.0,3.8,14.6,44.0,5500.0,4.8,no,no,no,good,no,no,notckd\\n284,60.0,70.0,1.020,0,0,normal,normal,notpresent,notpresent,,,,,,16.4,43.0,10800.0,5.7,no,no,no,good,no,no,notckd\\n285,33.0,80.0,1.025,0,0,normal,normal,notpresent,notpresent,100.0,37.0,1.2,142.0,4.0,16.9,52.0,6700.0,6.0,no,no,no,good,no,no,notckd\\n286,66.0,70.0,1.020,0,0,normal,normal,notpresent,notpresent,94.0,19.0,0.7,135.0,3.9,16.0,41.0,5300.0,5.9,no,no,no,good,no,no,notckd\\n287,71.0,70.0,1.020,0,0,normal,normal,notpresent,notpresent,81.0,18.0,0.8,145.0,5.0,14.7,44.0,9800.0,6.0,no,no,no,good,no,no,notckd\\n288,39.0,70.0,1.025,0,0,normal,normal,notpresent,notpresent,124.0,22.0,0.6,137.0,3.8,13.4,43.0,,,no,no,no,good,no,no,notckd\\n289,56.0,70.0,1.025,0,0,normal,normal,notpresent,notpresent,70.0,46.0,1.2,135.0,4.9,15.9,50.0,11000.0,5.1,?,?,?,good,no,no,notckd\\n290,42.0,70.0,1.020,0,0,normal,normal,notpresent,notpresent,93.0,32.0,0.9,143.0,4.7,16.6,43.0,7100.0,5.3,no,no,no,good,no,no,notckd\\n291,54.0,70.0,1.020,0,0,?,?,?,?,76.0,28.0,0.6,146.0,3.5,14.8,52.0,8400.0,5.9,no,no,no,good,no,no,notckd\\n292,47.0,80.0,1.025,0,0,normal,normal,notpresent,notpresent,124.0,44.0,1.0,140.0,4.9,14.9,41.0,7000.0,5.7,no,no,no,good,no,no,notckd\\n293,30.0,80.0,1.020,0,0,normal,normal,notpresent,notpresent,89.0,42.0,0.5,139.0,5.0,16.7,52.0,10200.0,5.0,no,no,no,good,no,no,notckd\\n294,50.0,,1.020,0,0,normal,normal,notpresent,notpresent,92.0,19.0,1.2,150.0,4.8,14.9,48.0,4700.0,5.4,no,no,no,good,no,no,notckd\\n295,75.0,60.0,1.020,0,0,normal,normal,notpresent,notpresent,110.0,50.0,0.7,135.0,5.0,14.3,40.0,8300.0,5.8,no,no,no,?,?,?,notckd\\n296,44.0,70.0,?,?,?,?,?,notpresent,notpresent,106.0,25.0,0.9,150.0,3.6,15.0,50.0,9600.0,6.5,no,no,no,good,no,no,notckd\\n297,41.0,70.0,1.020,0,0,normal,normal,notpresent,notpresent,125.0,38.0,0.6,140.0,5.0,16.8,41.0,6300.0,5.9,no,no,no,good,no,no,notckd\\n298,53.0,60.0,1.025,0,0,normal,normal,notpresent,notpresent,116.0,26.0,1.0,146.0,4.9,15.8,45.0,7700.0,5.2,?,?,?,good,no,no,notckd\\n299,34.0,60.0,1.020,0,0,normal,normal,notpresent,notpresent,91.0,49.0,1.2,135.0,4.5,13.5,48.0,8600.0,4.9,no,no,no,good,no,no,notckd\\n300,73.0,60.0,1.020,0,0,normal,normal,notpresent,notpresent,127.0,48.0,0.5,150.0,3.5,15.1,52.0,11000.0,4.7,no,no,no,good,no,no,notckd\\n301,45.0,60.0,1.020,0,0,normal,normal,?,?,114.0,26.0,0.7,141.0,4.2,15.0,43.0,9200.0,5.8,no,no,no,good,no,no,notckd\\n302,44.0,60.0,1.025,0,0,normal,normal,notpresent,notpresent,96.0,33.0,0.9,147.0,4.5,16.9,41.0,7200.0,5.0,no,no,no,good,no,no,notckd\\n303,29.0,70.0,1.020,0,0,normal,normal,notpresent,notpresent,127.0,44.0,1.2,145.0,5.0,14.8,48.0,,,no,no,no,good,no,no,notckd\\n304,55.0,70.0,1.020,0,0,normal,normal,notpresent,notpresent,107.0,26.0,1.1,,,17.0,50.0,6700.0,6.1,no,no,no,good,no,no,notckd\\n305,33.0,80.0,1.025,0,0,normal,normal,notpresent,notpresent,128.0,38.0,0.6,135.0,3.9,13.1,45.0,6200.0,4.5,no,no,no,good,no,no,notckd\\n306,41.0,80.0,1.020,0,0,normal,normal,notpresent,notpresent,122.0,25.0,0.8,138.0,5.0,17.1,41.0,9100.0,5.2,no,no,no,good,no,no,notckd\\n307,52.0,80.0,1.020,0,0,normal,normal,notpresent,notpresent,128.0,30.0,1.2,140.0,4.5,15.2,52.0,4300.0,5.7,no,no,no,good,no,no,notckd\\n308,47.0,60.0,1.020,0,0,normal,normal,notpresent,notpresent,137.0,17.0,0.5,150.0,3.5,13.6,44.0,7900.0,4.5,no,no,no,good,no,no,notckd\\n309,43.0,80.0,1.025,0,0,normal,normal,notpresent,notpresent,81.0,46.0,0.6,135.0,4.9,13.9,48.0,6900.0,4.9,no,no,no,good,no,no,notckd\\n310,51.0,60.0,1.020,0,0,?,?,notpresent,notpresent,129.0,25.0,1.2,139.0,5.0,17.2,40.0,8100.0,5.9,no,no,no,good,no,no,notckd\\n311,46.0,60.0,1.020,0,0,normal,normal,notpresent,notpresent,102.0,27.0,0.7,142.0,4.9,13.2,44.0,11000.0,5.4,no,no,no,good,no,no,notckd\\n312,56.0,60.0,1.025,0,0,normal,normal,notpresent,notpresent,132.0,18.0,1.1,147.0,4.7,13.7,45.0,7500.0,5.6,no,no,no,good,no,no,notckd\\n313,80.0,70.0,1.020,0,0,normal,normal,notpresent,notpresent,,,,135.0,4.1,15.3,48.0,6300.0,6.1,no,no,no,good,no,no,notckd\\n314,55.0,80.0,1.020,0,0,normal,normal,notpresent,notpresent,104.0,28.0,0.9,142.0,4.8,17.3,52.0,8200.0,4.8,no,no,no,good,no,no,notckd\\n315,39.0,70.0,1.025,0,0,normal,normal,notpresent,notpresent,131.0,46.0,0.6,145.0,5.0,15.6,41.0,9400.0,4.7,no,no,no,good,no,no,notckd\\n316,44.0,70.0,1.025,0,0,normal,normal,notpresent,notpresent,,,,,,13.8,48.0,7800.0,4.4,no,no,no,good,no,no,notckd\\n317,35.0,,1.020,0,0,normal,normal,?,?,99.0,30.0,0.5,135.0,4.9,15.4,48.0,5000.0,5.2,no,no,no,good,no,no,notckd\\n318,58.0,70.0,1.020,0,0,normal,normal,notpresent,notpresent,102.0,48.0,1.2,139.0,4.3,15.0,40.0,8100.0,4.9,no,no,no,good,no,no,notckd\\n319,61.0,70.0,1.025,0,0,normal,normal,notpresent,notpresent,120.0,29.0,0.7,137.0,3.5,17.4,52.0,7000.0,5.3,no,no,no,good,no,no,notckd\\n320,30.0,60.0,1.020,0,0,normal,normal,notpresent,notpresent,138.0,15.0,1.1,135.0,4.4,,,,,no,no,no,good,no,no,notckd\\n321,57.0,60.0,1.020,0,0,normal,normal,notpresent,notpresent,105.0,49.0,1.2,150.0,4.7,15.7,44.0,10400.0,6.2,no,no,no,good,no,no,notckd\\n322,65.0,60.0,1.020,0,0,normal,normal,notpresent,notpresent,109.0,39.0,1.0,144.0,3.5,13.9,48.0,9600.0,4.8,no,no,no,good,no,no,notckd\\n323,70.0,60.0,?,?,?,?,?,notpresent,notpresent,120.0,40.0,0.5,140.0,4.6,16.0,43.0,4500.0,4.9,no,no,no,good,no,no,notckd\\n324,43.0,80.0,1.025,0,0,normal,normal,notpresent,notpresent,130.0,30.0,1.1,143.0,5.0,15.9,45.0,7800.0,4.5,no,no,no,good,no,no,notckd\\n325,40.0,80.0,1.020,0,0,normal,normal,notpresent,notpresent,119.0,15.0,0.7,150.0,4.9,,,,,no,no,no,good,no,no,notckd\\n326,58.0,80.0,1.020,0,0,normal,normal,notpresent,notpresent,100.0,50.0,1.2,140.0,3.5,14.0,50.0,6700.0,6.5,no,no,no,good,no,no,notckd\\n327,47.0,60.0,1.020,0,0,normal,normal,notpresent,notpresent,109.0,25.0,1.1,141.0,4.7,15.8,41.0,8300.0,5.2,no,no,no,good,no,no,notckd\\n328,30.0,60.0,1.025,0,0,normal,normal,notpresent,notpresent,120.0,31.0,0.8,150.0,4.6,13.4,44.0,10700.0,5.8,no,no,no,good,no,no,notckd\\n329,28.0,70.0,1.020,0,0,normal,normal,?,?,131.0,29.0,0.6,145.0,4.9,,45.0,8600.0,6.5,no,no,no,good,no,no,notckd\\n330,33.0,60.0,1.025,0,0,normal,normal,notpresent,notpresent,80.0,25.0,0.9,146.0,3.5,14.1,48.0,7800.0,5.1,no,no,no,good,no,no,notckd\\n331,43.0,80.0,1.020,0,0,normal,normal,notpresent,notpresent,114.0,32.0,1.1,135.0,3.9,,42.0,,,no,no,no,good,no,no,notckd\\n332,59.0,70.0,1.025,0,0,normal,normal,notpresent,notpresent,130.0,39.0,0.7,147.0,4.7,13.5,46.0,6700.0,4.5,no,no,no,good,no,no,notckd\\n333,34.0,70.0,1.025,0,0,normal,normal,notpresent,notpresent,,33.0,1.0,150.0,5.0,15.3,44.0,10500.0,6.1,no,no,no,good,no,no,notckd\\n334,23.0,80.0,1.020,0,0,normal,normal,notpresent,notpresent,99.0,46.0,1.2,142.0,4.0,17.7,46.0,4300.0,5.5,no,no,no,good,no,no,notckd\\n335,24.0,80.0,1.025,0,0,normal,normal,notpresent,notpresent,125.0,,,136.0,3.5,15.4,43.0,5600.0,4.5,no,no,no,good,no,no,notckd\\n336,60.0,60.0,1.020,0,0,normal,normal,notpresent,notpresent,134.0,45.0,0.5,139.0,4.8,14.2,48.0,10700.0,5.6,no,no,no,good,no,no,notckd\\n337,25.0,60.0,1.020,0,0,normal,normal,notpresent,notpresent,119.0,27.0,0.5,,,15.2,40.0,9200.0,5.2,no,no,no,good,no,no,notckd\\n338,44.0,70.0,1.025,0,0,normal,normal,notpresent,notpresent,92.0,40.0,0.9,141.0,4.9,14.0,52.0,7500.0,6.2,no,no,no,good,no,no,notckd\\n339,62.0,80.0,1.020,0,0,normal,normal,notpresent,notpresent,132.0,34.0,0.8,147.0,3.5,17.8,44.0,4700.0,4.5,no,no,no,good,no,no,notckd\\n340,25.0,70.0,1.020,0,0,normal,normal,notpresent,notpresent,88.0,42.0,0.5,136.0,3.5,13.3,48.0,7000.0,4.9,no,no,no,good,no,no,notckd\\n341,32.0,70.0,1.025,0,0,normal,normal,notpresent,notpresent,100.0,29.0,1.1,142.0,4.5,14.3,43.0,6700.0,5.9,no,no,no,good,no,no,notckd\\n342,63.0,70.0,1.025,0,0,normal,normal,notpresent,notpresent,130.0,37.0,0.9,150.0,5.0,13.4,41.0,7300.0,4.7,no,no,no,good,no,no,notckd\\n343,44.0,60.0,1.020,0,0,normal,normal,notpresent,notpresent,95.0,46.0,0.5,138.0,4.2,15.0,50.0,7700.0,6.3,no,no,no,good,no,no,notckd\\n344,37.0,60.0,1.025,0,0,normal,normal,notpresent,notpresent,111.0,35.0,0.8,135.0,4.1,16.2,50.0,5500.0,5.7,no,no,no,good,no,no,notckd\\n345,64.0,60.0,1.020,0,0,normal,normal,notpresent,notpresent,106.0,27.0,0.7,150.0,3.3,14.4,42.0,8100.0,4.7,no,no,no,good,no,no,notckd\\n346,22.0,60.0,1.025,0,0,normal,normal,notpresent,notpresent,97.0,18.0,1.2,138.0,4.3,13.5,42.0,7900.0,6.4,no,no,no,good,no,no,notckd\\n347,33.0,60.0,?,?,?,normal,normal,notpresent,notpresent,130.0,41.0,0.9,141.0,4.4,15.5,52.0,4300.0,5.8,no,no,no,good,no,no,notckd\\n348,43.0,60.0,1.025,0,0,normal,normal,notpresent,notpresent,108.0,25.0,1.0,144.0,5.0,17.8,43.0,7200.0,5.5,no,no,no,good,no,no,notckd\\n349,38.0,80.0,1.020,0,0,normal,normal,notpresent,notpresent,99.0,19.0,0.5,147.0,3.5,13.6,44.0,7300.0,6.4,no,no,no,good,no,no,notckd\\n350,35.0,70.0,1.025,0,0,?,?,notpresent,notpresent,82.0,36.0,1.1,150.0,3.5,14.5,52.0,9400.0,6.1,no,no,no,good,no,no,notckd\\n351,65.0,70.0,1.025,0,0,?,?,notpresent,notpresent,85.0,20.0,1.0,142.0,4.8,16.1,43.0,9600.0,4.5,no,no,no,good,no,no,notckd\\n352,29.0,80.0,1.020,0,0,normal,normal,notpresent,notpresent,83.0,49.0,0.9,139.0,3.3,17.5,40.0,9900.0,4.7,no,no,no,good,no,no,notckd\\n353,37.0,60.0,1.020,0,0,normal,normal,notpresent,notpresent,109.0,47.0,1.1,141.0,4.9,15.0,48.0,7000.0,5.2,no,no,no,good,no,no,notckd\\n354,39.0,60.0,1.020,0,0,normal,normal,notpresent,notpresent,86.0,37.0,0.6,150.0,5.0,13.6,51.0,5800.0,4.5,no,no,no,good,no,no,notckd\\n355,32.0,60.0,1.025,0,0,normal,normal,notpresent,notpresent,102.0,17.0,0.4,147.0,4.7,14.6,41.0,6800.0,5.1,no,no,no,good,no,no,notckd\\n356,23.0,60.0,1.020,0,0,normal,normal,notpresent,notpresent,95.0,24.0,0.8,145.0,5.0,15.0,52.0,6300.0,4.6,no,no,no,good,no,no,notckd\\n357,34.0,70.0,1.025,0,0,normal,normal,notpresent,notpresent,87.0,38.0,0.5,144.0,4.8,17.1,47.0,7400.0,6.1,no,no,no,good,no,no,notckd\\n358,66.0,70.0,1.025,0,0,normal,normal,notpresent,notpresent,107.0,16.0,1.1,140.0,3.6,13.6,42.0,11000.0,4.9,no,no,no,good,no,no,notckd\\n359,47.0,60.0,1.020,0,0,normal,normal,notpresent,notpresent,117.0,22.0,1.2,138.0,3.5,13.0,45.0,5200.0,5.6,no,no,no,good,no,no,notckd\\n360,74.0,60.0,1.020,0,0,normal,normal,notpresent,notpresent,88.0,50.0,0.6,147.0,3.7,17.2,53.0,6000.0,4.5,no,no,no,good,no,no,notckd\\n361,35.0,60.0,1.025,0,0,normal,normal,notpresent,notpresent,105.0,39.0,0.5,135.0,3.9,14.7,43.0,5800.0,6.2,no,no,no,good,no,no,notckd\\n362,29.0,80.0,1.020,0,0,normal,normal,notpresent,notpresent,70.0,16.0,0.7,138.0,3.5,13.7,54.0,5400.0,5.8,no,no,no,good,no,no,notckd\\n363,33.0,80.0,1.025,0,0,normal,normal,notpresent,notpresent,89.0,19.0,1.1,144.0,5.0,15.0,40.0,10300.0,4.8,no,no,no,good,no,no,notckd\\n364,67.0,80.0,1.025,0,0,normal,normal,notpresent,notpresent,99.0,40.0,0.5,,,17.8,44.0,5900.0,5.2,no,no,no,good,no,no,notckd\\n365,73.0,80.0,1.025,0,0,normal,normal,notpresent,notpresent,118.0,44.0,0.7,137.0,3.5,14.8,45.0,9300.0,4.7,no,no,no,good,no,no,notckd\\n366,24.0,80.0,1.020,0,0,normal,normal,notpresent,notpresent,93.0,46.0,1.0,145.0,3.5,,,10700.0,6.3,no,no,no,good,no,no,notckd\\n367,60.0,80.0,1.025,0,0,normal,normal,notpresent,notpresent,81.0,15.0,0.5,141.0,3.6,15.0,46.0,10500.0,5.3,no,no,no,good,no,no,notckd\\n368,68.0,60.0,1.025,0,0,normal,normal,notpresent,notpresent,125.0,41.0,1.1,139.0,3.8,17.4,50.0,6700.0,6.1,no,no,no,good,no,no,notckd\\n369,30.0,80.0,1.025,0,0,normal,normal,notpresent,notpresent,82.0,42.0,0.7,146.0,5.0,14.9,45.0,9400.0,5.9,no,no,no,good,no,no,notckd\\n370,75.0,70.0,1.020,0,0,normal,normal,notpresent,notpresent,107.0,48.0,0.8,144.0,3.5,13.6,46.0,10300.0,4.8,no,no,no,good,no,no,notckd\\n371,69.0,70.0,1.020,0,0,normal,normal,notpresent,notpresent,83.0,42.0,1.2,139.0,3.7,16.2,50.0,9300.0,5.4,no,no,no,good,no,no,notckd\\n372,28.0,60.0,1.025,0,0,normal,normal,notpresent,notpresent,79.0,50.0,0.5,145.0,5.0,17.6,51.0,6500.0,5.0,no,no,no,good,no,no,notckd\\n373,72.0,60.0,1.020,0,0,normal,normal,notpresent,notpresent,109.0,26.0,0.9,150.0,4.9,15.0,52.0,10500.0,5.5,no,no,no,good,no,no,notckd\\n374,61.0,70.0,1.025,0,0,normal,normal,notpresent,notpresent,133.0,38.0,1.0,142.0,3.6,13.7,47.0,9200.0,4.9,no,no,no,good,no,no,notckd\\n375,79.0,80.0,1.025,0,0,normal,normal,notpresent,notpresent,111.0,44.0,1.2,146.0,3.6,16.3,40.0,8000.0,6.4,no,no,no,good,no,no,notckd\\n376,70.0,80.0,1.020,0,0,normal,normal,notpresent,notpresent,74.0,41.0,0.5,143.0,4.5,15.1,48.0,9700.0,5.6,no,no,no,good,no,no,notckd\\n377,58.0,70.0,1.025,0,0,normal,normal,notpresent,notpresent,88.0,16.0,1.1,147.0,3.5,16.4,53.0,9100.0,5.2,no,no,no,good,no,no,notckd\\n378,64.0,70.0,1.020,0,0,normal,normal,notpresent,notpresent,97.0,27.0,0.7,145.0,4.8,13.8,49.0,6400.0,4.8,no,no,no,good,no,no,notckd\\n379,71.0,60.0,1.025,0,0,normal,normal,notpresent,notpresent,,,0.9,140.0,4.8,15.2,42.0,7700.0,5.5,no,no,no,good,no,no,notckd\\n380,62.0,80.0,1.025,0,0,normal,normal,notpresent,notpresent,78.0,45.0,0.6,138.0,3.5,16.1,50.0,5400.0,5.7,no,no,no,good,no,no,notckd\\n381,59.0,60.0,1.020,0,0,normal,normal,notpresent,notpresent,113.0,23.0,1.1,139.0,3.5,15.3,54.0,6500.0,4.9,no,no,no,good,no,no,notckd\\n382,71.0,70.0,1.025,0,0,?,?,notpresent,notpresent,79.0,47.0,0.5,142.0,4.8,16.6,40.0,5800.0,5.9,no,no,no,good,no,no,notckd\\n383,48.0,80.0,1.025,0,0,normal,normal,notpresent,notpresent,75.0,22.0,0.8,137.0,5.0,16.8,51.0,6000.0,6.5,no,no,no,good,no,no,notckd\\n384,80.0,80.0,1.025,0,0,normal,normal,notpresent,notpresent,119.0,46.0,0.7,141.0,4.9,13.9,49.0,5100.0,5.0,no,no,no,good,no,no,notckd\\n385,57.0,60.0,1.020,0,0,normal,normal,notpresent,notpresent,132.0,18.0,1.1,150.0,4.7,15.4,42.0,11000.0,4.5,no,no,no,good,no,no,notckd\\n386,63.0,70.0,1.020,0,0,normal,normal,notpresent,notpresent,113.0,25.0,0.6,146.0,4.9,16.5,52.0,8000.0,5.1,no,no,no,good,no,no,notckd\\n387,46.0,70.0,1.025,0,0,normal,normal,notpresent,notpresent,100.0,47.0,0.5,142.0,3.5,16.4,43.0,5700.0,6.5,no,no,no,good,no,no,notckd\\n388,15.0,80.0,1.025,0,0,normal,normal,notpresent,notpresent,93.0,17.0,0.9,136.0,3.9,16.7,50.0,6200.0,5.2,no,no,no,good,no,no,notckd\\n389,51.0,80.0,1.020,0,0,normal,normal,notpresent,notpresent,94.0,15.0,1.2,144.0,3.7,15.5,46.0,9500.0,6.4,no,no,no,good,no,no,notckd\\n390,41.0,80.0,1.025,0,0,normal,normal,notpresent,notpresent,112.0,48.0,0.7,140.0,5.0,17.0,52.0,7200.0,5.8,no,no,no,good,no,no,notckd\\n391,52.0,80.0,1.025,0,0,normal,normal,notpresent,notpresent,99.0,25.0,0.8,135.0,3.7,15.0,52.0,6300.0,5.3,no,no,no,good,no,no,notckd\\n392,36.0,80.0,1.025,0,0,normal,normal,notpresent,notpresent,85.0,16.0,1.1,142.0,4.1,15.6,44.0,5800.0,6.3,no,no,no,good,no,no,notckd\\n393,57.0,80.0,1.020,0,0,normal,normal,notpresent,notpresent,133.0,48.0,1.2,147.0,4.3,14.8,46.0,6600.0,5.5,no,no,no,good,no,no,notckd\\n394,43.0,60.0,1.025,0,0,normal,normal,notpresent,notpresent,117.0,45.0,0.7,141.0,4.4,13.0,54.0,7400.0,5.4,no,no,no,good,no,no,notckd\\n395,50.0,80.0,1.020,0,0,normal,normal,notpresent,notpresent,137.0,46.0,0.8,139.0,5.0,14.1,45.0,9500.0,4.6,no,no,no,good,no,no,notckd\\n396,55.0,80.0,1.020,0,0,normal,normal,notpresent,notpresent,140.0,49.0,0.5,150.0,4.9,15.7,47.0,6700.0,4.9,no,no,no,good,no,no,notckd\\n397,42.0,70.0,1.025,0,0,normal,normal,notpresent,notpresent,75.0,31.0,1.2,141.0,3.5,16.5,54.0,7800.0,6.2,no,no,no,good,no,no,notckd\\n398,12.0,80.0,1.020,0,0,normal,normal,notpresent,notpresent,100.0,26.0,0.6,137.0,4.4,15.8,49.0,6600.0,5.4,no,no,no,good,no,no,notckd\\n399,17.0,60.0,1.025,0,0,normal,normal,notpresent,notpresent,114.0,50.0,1.0,135.0,4.9,14.2,51.0,7200.0,5.9,no,no,no,good,no,no,notckd\\n400,58.0,80.0,1.025,0,0,normal,normal,notpresent,notpresent,131.0,18.0,1.1,141.0,3.5,15.8,53.0,6800.0,6.1,no,no,no,good,no,no,notckd\\n'"
      ]
     },
     "execution_count": 16,
     "metadata": {},
     "output_type": "execute_result"
    }
   ],
   "source": [
    "df.to_csv()"
   ]
  }
 ],
 "metadata": {
  "kernelspec": {
   "display_name": "Python 2",
   "language": "python",
   "name": "python2"
  },
  "language_info": {
   "codemirror_mode": {
    "name": "ipython",
    "version": 2
   },
   "file_extension": ".py",
   "mimetype": "text/x-python",
   "name": "python",
   "nbconvert_exporter": "python",
   "pygments_lexer": "ipython2",
   "version": "2.7.13"
  }
 },
 "nbformat": 4,
 "nbformat_minor": 2
}
