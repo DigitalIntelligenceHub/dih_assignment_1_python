{
 "cells": [
  {
   "cell_type": "code",
   "execution_count": 45,
   "metadata": {
    "collapsed": false
   },
   "outputs": [
    {
     "name": "stdout",
     "output_type": "stream",
     "text": [
      "C:\\Windows\\system32\n",
      "Index(['age', 'bp', 'sg', 'al', 'su', 'rbc', 'pc', 'pcc', 'ba', 'bgr', 'bu',\n",
      "       'sc', 'sod', 'pot', 'hemo', 'pcv', 'wbcc', 'rbcc', 'htn', 'dm', 'cad',\n",
      "       'appet', 'pe', 'ane', 'class'],\n",
      "      dtype='object')\n",
      "[nan 'yes' 'no' ' yes' '\\tno' '\\tyes']\n",
      "['nan' 'yes' 'no']\n",
      "60\n",
      "47\n"
     ]
    },
    {
     "data": {
      "image/png": "[encoded data removed]",
      "text/plain": [
       "<matplotlib.figure.Figure at 0xa212940>"
      ]
     },
     "metadata": {},
     "output_type": "display_data"
    },
    {
     "name": "stdout",
     "output_type": "stream",
     "text": [
      "180.0\n"
     ]
    }
   ],
   "source": [
    "import pandas as pd\n",
    "import matplotlib.pyplot as plt\n",
    "import os\n",
    "\n",
    "print(os.getcwd())\n",
    "\n",
    "def print_column_unique(df):\n",
    "    for x in range(0,len(df.columns)):\n",
    "        print(str(df.columns[x])+\" \" +str(df.iloc[:,x].unique()))\n",
    "def clean(df):\n",
    "    func=lambda x: str(x).strip()\n",
    "    df=df.applymap(func)\n",
    "    df=df.replace(\"?\",float(\"nan\"))\n",
    "    return df\n",
    "\n",
    "df = pd.read_csv(\"C:/Users/muhammad.saif/Documents/Updated Dataset/Dataset/chronic_kidney_disease_updated.csv\",sep=',', na_values=['?'])\n",
    "print(df.columns)\n",
    "#print_column_unique(df)\n",
    "\n",
    "print(df.dm.unique())\n",
    "df=clean(df)\n",
    "print(df.dm.unique())\n",
    "\n",
    "df[['age', 'bp', 'bgr', 'bu', 'sc', 'sod', 'pot', 'hemo', 'pcv', 'wbcc', 'rbcc']]=df[['age', 'bp', 'bgr', 'bu', 'sc', 'sod', 'pot', 'hemo', 'pcv', 'wbcc', 'rbcc']].astype(float)\n",
    "print(len(df[(df[\"class\"]==\"ckd\") & (df[\"rbc\"]==\"normal\")]))\n",
    "print(len(df[(df[\"class\"]==\"ckd\") & (df[\"rbc\"]==\"abnormal\")]))\n",
    "df[df[\"class\"]==\"ckd\"].rbc.value_counts().plot(kind=\"bar\")\n",
    "plt.show()\n",
    "\n",
    "print(df.bp.max())\n",
    "#print_column_unique(df)\n",
    "#print(df.dm.unique())\n",
    "df.to_csv(\"clean_chronic_kidney_disease.csv\",sep=\",\",index=False,encoding=\"utf-8\")\n"
   ]
  },
  {
   "cell_type": "code",
   "execution_count": null,
   "metadata": {
    "collapsed": true
   },
   "outputs": [],
   "source": []
  }
 ],
 "metadata": {
  "kernelspec": {
   "display_name": "Python 3",
   "language": "python",
   "name": "python3"
  },
  "language_info": {
   "codemirror_mode": {
    "name": "ipython",
    "version": 3
   },
   "file_extension": ".py",
   "mimetype": "text/x-python",
   "name": "python",
   "nbconvert_exporter": "python",
   "pygments_lexer": "ipython3",
   "version": "3.6.0"
  }
 },
 "nbformat": 4,
 "nbformat_minor": 2
}
