{
 "cells": [
  {
   "cell_type": "code",
   "execution_count": 3,
   "metadata": {
    "collapsed": false
   },
   "outputs": [],
   "source": [
    "import pandas\n",
    "import numpy as np\n",
    "import matplotlib.pyplot as plt\n",
    "\n",
    "df = pandas.read_csv(\"C:/Users/umair.hanif/Desktop/Learning Outcomes/Updated Dataset/Updated Dataset/Dataset/chronic_kidney_disease_updated.csv\")\n"
   ]
  },
  {
   "cell_type": "code",
   "execution_count": 6,
   "metadata": {
    "collapsed": false
   },
   "outputs": [
    {
     "name": "stdout",
     "output_type": "stream",
     "text": [
      "['age', 'bp', 'sg', 'al', 'su', 'rbc', 'pc', 'pcc', 'ba', 'bgr', 'bu', 'sc', 'sod', 'pot', 'hemo', 'pcv', 'wbcc', 'rbcc', 'htn', 'dm', 'cad', 'appet', 'pe', 'ane', 'class']\n",
      "  age  bp     sg al su     rbc        pc         pcc          ba  bgr  ...   \\\n",
      "2   7  50  1.020  4  0     NaN    normal  notpresent  notpresent  NaN  ...    \n",
      "3  62  80  1.010  2  3  normal    normal  notpresent  notpresent  423  ...    \n",
      "4  48  70  1.005  4  0  normal  abnormal     present  notpresent  117  ...    \n",
      "5  51  80  1.010  2  0  normal    normal  notpresent  notpresent  106  ...    \n",
      "6  60  90  1.015  3  0     NaN       NaN  notpresent  notpresent   74  ...    \n",
      "\n",
      "  pcv  wbcc rbcc  htn   dm cad appet   pe  ane class  \n",
      "2  38  6000  NaN   no   no  no  good   no   no   ckd  \n",
      "3  31  7500  NaN   no  yes  no  poor   no  yes   ckd  \n",
      "4  32  6700  3.9  yes   no  no  poor  yes  yes   ckd  \n",
      "5  35  7300  4.6   no   no  no  good   no   no   ckd  \n",
      "6  39  7800  4.4  yes  yes  no  good  yes   no   ckd  \n",
      "\n",
      "[5 rows x 25 columns]\n",
      "['yes' 'no' nan]\n",
      "['yes' 'no' 'nan']\n",
      "           pc   al\n",
      "3      normal    2\n",
      "4    abnormal    4\n",
      "5      normal    2\n",
      "6         nan    3\n",
      "7      normal    0\n",
      "8    abnormal    2\n",
      "9    abnormal    3\n",
      "10   abnormal    2\n",
      "11   abnormal    2\n",
      "12   abnormal    3\n",
      "13     normal    3\n",
      "14        nan  nan\n",
      "15   abnormal    3\n",
      "16     normal    3\n",
      "17     normal    2\n",
      "18        nan  nan\n",
      "19     normal    0\n",
      "20   abnormal    1\n",
      "21   abnormal    2\n",
      "22        nan  nan\n",
      "23   abnormal    4\n",
      "24     normal    0\n",
      "25   abnormal    4\n",
      "26     normal    0\n",
      "27     normal    0\n",
      "28   abnormal    3\n",
      "29        nan    1\n",
      "30   abnormal    1\n",
      "31        nan  nan\n",
      "32   abnormal    3\n",
      "..        ...  ...\n",
      "371    normal    0\n",
      "372    normal    0\n",
      "373    normal    0\n",
      "374    normal    0\n",
      "375    normal    0\n",
      "376    normal    0\n",
      "377    normal    0\n",
      "378    normal    0\n",
      "379    normal    0\n",
      "380    normal    0\n",
      "381    normal    0\n",
      "382       nan    0\n",
      "383    normal    0\n",
      "384    normal    0\n",
      "385    normal    0\n",
      "386    normal    0\n",
      "387    normal    0\n",
      "388    normal    0\n",
      "389    normal    0\n",
      "390    normal    0\n",
      "391    normal    0\n",
      "392    normal    0\n",
      "393    normal    0\n",
      "394    normal    0\n",
      "395    normal    0\n",
      "396    normal    0\n",
      "397    normal    0\n",
      "398    normal    0\n",
      "399    normal    0\n",
      "400    normal    0\n",
      "\n",
      "[398 rows x 2 columns]\n",
      "180.0\n"
     ]
    }
   ],
   "source": [
    "#print column names\n",
    "print(list(df) )\n",
    "\n",
    "#print first 5 rows\n",
    "print(df.head())\n",
    "\n",
    "df.drop(df.index[[0]], inplace=True)\n",
    "\n",
    "print(df.dm.unique() )\n",
    "\n",
    "def replace(tup, df):\n",
    "    for i in tup:\n",
    "        df.replace(to_replace=i, value=np.nan, inplace=True)\n",
    "        \n",
    "def cleandf(df):\n",
    "   df=df.applymap(lambda x: str(x).strip())\n",
    "   return df\n",
    "    \n",
    "df=cleandf(df)\n",
    "    \n",
    "replace(( \"\\t\", \" \", \"?\"), df)\n",
    "\n",
    "print(df.dm.unique() )\n",
    "\n",
    "\n",
    "numeric_columns= ['age', 'bp', 'bgr', 'bu', 'sc', 'sod', 'pot', 'hemo', 'pcv', 'wbcc', 'rbcc']\n",
    "for i in numeric_columns:\n",
    "   df[i] = pandas.to_numeric(df[i], errors='coerce')\n",
    "\n",
    "\n",
    "print(df[['pc','al']])\n",
    "\n",
    "df.rename(columns={'class': 'Class'}, inplace=True)\n",
    "ckd=df[df.Class=='ckd']\n",
    "\n",
    "normal_count=(len(ckd[ckd.rbc=='normal'].index))\n",
    "abnormal_count=(len(ckd[ckd.rbc=='abnormal'].index))\n",
    "\n",
    "ckd['rbc'].value_counts().plot(kind='bar')\n",
    "\n",
    "print(ckd['bp'].max())\n",
    "\n",
    "\n",
    "df.to_csv(path_or_buf=\"C:/Users/umair.hanif/Desktop/Learning Outcomes/Python Codes/clean_chronic_kidney_disease.csv\")\n",
    "\n"
   ]
  },
  {
   "cell_type": "code",
   "execution_count": 10,
   "metadata": {
    "collapsed": false
   },
   "outputs": [
    {
     "data": {
      "image/png": "[encoded data removed]",
      "text/plain": [
       "<matplotlib.figure.Figure at 0x1981c2b5e80>"
      ]
     },
     "metadata": {},
     "output_type": "display_data"
    }
   ],
   "source": [
    "plt.style.use('ggplot')\n",
    "plt.show()"
   ]
  }
 ],
 "metadata": {
  "kernelspec": {
   "display_name": "Python 3",
   "language": "python",
   "name": "python3"
  },
  "language_info": {
   "codemirror_mode": {
    "name": "ipython",
    "version": 3
   },
   "file_extension": ".py",
   "mimetype": "text/x-python",
   "name": "python",
   "nbconvert_exporter": "python",
   "pygments_lexer": "ipython3",
   "version": "3.6.0"
  }
 },
 "nbformat": 4,
 "nbformat_minor": 2
}
